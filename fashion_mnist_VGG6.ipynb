{
  "nbformat": 4,
  "nbformat_minor": 0,
  "metadata": {
    "colab": {
      "name": "fashion_mnist_VGG6",
      "provenance": [],
      "authorship_tag": "ABX9TyOoQsyXfuQqhoYKA9GDuCFp",
      "include_colab_link": true
    },
    "kernelspec": {
      "name": "python3",
      "display_name": "Python 3"
    }
  },
  "cells": [
    {
      "cell_type": "markdown",
      "metadata": {
        "id": "view-in-github",
        "colab_type": "text"
      },
      "source": [
        "<a href=\"https://colab.research.google.com/github/ekourkchi/incNET/blob/master/fashion_mnist_VGG6.ipynb\" target=\"_parent\"><img src=\"https://colab.research.google.com/assets/colab-badge.svg\" alt=\"Open In Colab\"/></a>"
      ]
    },
    {
      "cell_type": "code",
      "metadata": {
        "id": "q3KzJyjv3rnA",
        "colab_type": "code",
        "outputId": "95236d85-e825-4b00-e042-a366121d8835",
        "colab": {
          "base_uri": "https://localhost:8080/",
          "height": 34
        }
      },
      "source": [
        "import tensorflow as tf\n",
        "print(tf.__version__)"
      ],
      "execution_count": 38,
      "outputs": [
        {
          "output_type": "stream",
          "text": [
            "1.15.0\n"
          ],
          "name": "stdout"
        }
      ]
    },
    {
      "cell_type": "code",
      "metadata": {
        "id": "PmxkHFpt31bM",
        "colab_type": "code",
        "colab": {}
      },
      "source": [
        "mnist = tf.keras.datasets.fashion_mnist"
      ],
      "execution_count": 0,
      "outputs": []
    },
    {
      "cell_type": "code",
      "metadata": {
        "id": "7wZBP0dvBfOa",
        "colab_type": "code",
        "colab": {}
      },
      "source": [
        "(training_images, training_labels), (test_images, test_labels) = mnist.load_data()"
      ],
      "execution_count": 0,
      "outputs": []
    },
    {
      "cell_type": "code",
      "metadata": {
        "id": "zGGDnXlIBnkT",
        "colab_type": "code",
        "colab": {}
      },
      "source": [
        ""
      ],
      "execution_count": 0,
      "outputs": []
    },
    {
      "cell_type": "code",
      "metadata": {
        "id": "FPc9d3gJ3jWF",
        "colab_type": "code",
        "outputId": "e744c1bd-b4a4-4b85-ff8f-4ec8a33255cf",
        "colab": {
          "base_uri": "https://localhost:8080/",
          "height": 300
        }
      },
      "source": [
        "import matplotlib.pyplot as plt\n",
        "plt.imshow(training_images[1])\n",
        "print(training_labels[1])\n",
        "print(training_images[1].shape)"
      ],
      "execution_count": 41,
      "outputs": [
        {
          "output_type": "stream",
          "text": [
            "0\n",
            "(28, 28)\n"
          ],
          "name": "stdout"
        },
        {
          "output_type": "display_data",
          "data": {
            "image/png": "[encoded data removed]",
            "text/plain": [
              "<Figure size 432x288 with 1 Axes>"
            ]
          },
          "metadata": {
            "tags": []
          }
        }
      ]
    },
    {
      "cell_type": "code",
      "metadata": {
        "id": "N2ZX-FzkBqFp",
        "colab_type": "code",
        "colab": {}
      },
      "source": [
        "training_images  = training_images / 255.0\n",
        "test_images = test_images / 255.0"
      ],
      "execution_count": 0,
      "outputs": []
    },
    {
      "cell_type": "code",
      "metadata": {
        "id": "skXnj1T_BzQ6",
        "colab_type": "code",
        "colab": {}
      },
      "source": [
        "model = tf.keras.models.Sequential([tf.keras.layers.Flatten(), \n",
        "                                    tf.keras.layers.Dense(128, activation=tf.nn.relu), \n",
        "                                    tf.keras.layers.Dense(10, activation=tf.nn.softmax)])"
      ],
      "execution_count": 0,
      "outputs": []
    },
    {
      "cell_type": "code",
      "metadata": {
        "id": "8KwF4UFlB1VZ",
        "colab_type": "code",
        "colab": {
          "base_uri": "https://localhost:8080/",
          "height": 225
        },
        "outputId": "1e83f54b-1c4e-4d23-bd76-70965c28c6e2"
      },
      "source": [
        "model.compile(optimizer = tf.train.AdamOptimizer(),\n",
        "              loss = 'sparse_categorical_crossentropy',\n",
        "              metrics=['accuracy'])\n",
        "\n",
        "model.fit(training_images, training_labels, epochs=5)"
      ],
      "execution_count": 44,
      "outputs": [
        {
          "output_type": "stream",
          "text": [
            "Train on 60000 samples\n",
            "Epoch 1/5\n",
            "60000/60000 [==============================] - 6s 102us/sample - loss: 0.4984 - acc: 0.8261\n",
            "Epoch 2/5\n",
            "60000/60000 [==============================] - 6s 102us/sample - loss: 0.3742 - acc: 0.8647\n",
            "Epoch 3/5\n",
            "60000/60000 [==============================] - 6s 100us/sample - loss: 0.3356 - acc: 0.8767\n",
            "Epoch 4/5\n",
            "60000/60000 [==============================] - 6s 99us/sample - loss: 0.3116 - acc: 0.8857\n",
            "Epoch 5/5\n",
            "60000/60000 [==============================] - 6s 104us/sample - loss: 0.2935 - acc: 0.8915\n"
          ],
          "name": "stdout"
        },
        {
          "output_type": "execute_result",
          "data": {
            "text/plain": [
              "<tensorflow.python.keras.callbacks.History at 0x7efc1222deb8>"
            ]
          },
          "metadata": {
            "tags": []
          },
          "execution_count": 44
        }
      ]
    },
    {
      "cell_type": "code",
      "metadata": {
        "id": "WzlqsEzX9s5P",
        "colab_type": "code",
        "outputId": "6f0300b3-a85d-4e9d-8ec2-b24c70db4601",
        "colab": {
          "base_uri": "https://localhost:8080/",
          "height": 52
        }
      },
      "source": [
        "model.evaluate(test_images, test_labels)"
      ],
      "execution_count": 45,
      "outputs": [
        {
          "output_type": "stream",
          "text": [
            "10000/10000 [==============================] - 1s 55us/sample - loss: 0.3616 - acc: 0.8723\n"
          ],
          "name": "stdout"
        },
        {
          "output_type": "execute_result",
          "data": {
            "text/plain": [
              "[0.36157066185474396, 0.8723]"
            ]
          },
          "metadata": {
            "tags": []
          },
          "execution_count": 45
        }
      ]
    },
    {
      "cell_type": "code",
      "metadata": {
        "id": "t0IPxsDPE9MA",
        "colab_type": "code",
        "colab": {
          "base_uri": "https://localhost:8080/",
          "height": 34
        },
        "outputId": "690bab01-cbaf-43f0-b50d-bb77e168d117"
      },
      "source": [
        "n,nx,ny =training_images.shape\n",
        "training_images_new = np.resize(training_images, (n,nx,ny,1))\n",
        "\n",
        "n,nx,ny =test_images.shape\n",
        "test_images_new = np.resize(test_images, (n,nx,ny,1))\n",
        "\n",
        "test_images_new.shape"
      ],
      "execution_count": 52,
      "outputs": [
        {
          "output_type": "execute_result",
          "data": {
            "text/plain": [
              "(10000, 28, 28, 1)"
            ]
          },
          "metadata": {
            "tags": []
          },
          "execution_count": 52
        }
      ]
    },
    {
      "cell_type": "code",
      "metadata": {
        "id": "qI2KaT6UCMXG",
        "colab_type": "code",
        "colab": {}
      },
      "source": [
        "import tensorflow as tf\n",
        "from tensorflow.keras.models import Sequential\n",
        "from tensorflow.keras.layers import Dense, Conv2D, Flatten\n",
        "from tensorflow.keras.utils import to_categorical\n",
        "import matplotlib.pyplot as plt\n",
        "\n",
        "import numpy as np\n",
        "def vgg6(input_shape=(28, 28, 1), n_classes: int = 10):\n",
        "    \"\"\"\n",
        "        VGG6\n",
        "    :param input_shape:\n",
        "    :param n_classes:\n",
        "    :return:\n",
        "    \"\"\"\n",
        "\n",
        "    model = tf.keras.models.Sequential(name='VGG6')\n",
        "    # input: 21x21 images with 1 channel -> (21, 21, 1) tensors.\n",
        "    # this applies 16 convolution filters of size 3x3 each.\n",
        "    model.add(tf.keras.layers.Conv2D(16, (3, 3), activation='relu', input_shape=input_shape, name='conv1'))\n",
        "    model.add(tf.keras.layers.Conv2D(16, (3, 3), activation='relu', name='conv2'))\n",
        "    model.add(tf.keras.layers.MaxPooling2D(pool_size=(2, 2)))\n",
        "    model.add(tf.keras.layers.Dropout(0.25))\n",
        "\n",
        "    model.add(tf.keras.layers.Conv2D(32, (3, 3), activation='relu', name='conv3'))\n",
        "    model.add(tf.keras.layers.Conv2D(32, (3, 3), activation='relu', name='conv4'))\n",
        "    model.add(tf.keras.layers.BatchNormalization(axis = 3, name = 'bn_2'))\n",
        "    model.add(tf.keras.layers.MaxPooling2D(pool_size=(4, 4)))\n",
        "    model.add(tf.keras.layers.Dropout(0.25))\n",
        "\n",
        "    model.add(tf.keras.layers.Flatten())\n",
        "\n",
        "    model.add(tf.keras.layers.Dense(256, activation='relu', name='fc_1'))\n",
        "    model.add(tf.keras.layers.Dropout(0.5))\n",
        "    # output layer\n",
        "    activation = 'sigmoid' if n_classes == 1 else 'softmax'\n",
        "    model.add(tf.keras.layers.Dense(n_classes, activation=activation, name='fc_out'))\n",
        "\n",
        "    return model"
      ],
      "execution_count": 0,
      "outputs": []
    },
    {
      "cell_type": "code",
      "metadata": {
        "id": "9kdLpi31DJHm",
        "colab_type": "code",
        "colab": {
          "base_uri": "https://localhost:8080/",
          "height": 1000
        },
        "outputId": "91376011-65c2-435e-ed59-c211c73182f0"
      },
      "source": [
        "vgg_model = vgg6()\n",
        "vgg_model.compile(loss='sparse_categorical_crossentropy', optimizer='adam', metrics=['accuracy'])\n",
        "n_epochs=15\n",
        "vgg_model.summary()\n",
        "vgg_model_history = vgg_model.fit(training_images_new, training_labels, epochs=n_epochs, batch_size=1024, verbose=2, shuffle=True)\n"
      ],
      "execution_count": 51,
      "outputs": [
        {
          "output_type": "stream",
          "text": [
            "Model: \"VGG6\"\n",
            "_________________________________________________________________\n",
            "Layer (type)                 Output Shape              Param #   \n",
            "=================================================================\n",
            "conv1 (Conv2D)               (None, 26, 26, 16)        160       \n",
            "_________________________________________________________________\n",
            "conv2 (Conv2D)               (None, 24, 24, 16)        2320      \n",
            "_________________________________________________________________\n",
            "max_pooling2d_14 (MaxPooling (None, 12, 12, 16)        0         \n",
            "_________________________________________________________________\n",
            "dropout_21 (Dropout)         (None, 12, 12, 16)        0         \n",
            "_________________________________________________________________\n",
            "conv3 (Conv2D)               (None, 10, 10, 32)        4640      \n",
            "_________________________________________________________________\n",
            "conv4 (Conv2D)               (None, 8, 8, 32)          9248      \n",
            "_________________________________________________________________\n",
            "bn_2 (BatchNormalization)    (None, 8, 8, 32)          128       \n",
            "_________________________________________________________________\n",
            "max_pooling2d_15 (MaxPooling (None, 2, 2, 32)          0         \n",
            "_________________________________________________________________\n",
            "dropout_22 (Dropout)         (None, 2, 2, 32)          0         \n",
            "_________________________________________________________________\n",
            "flatten_11 (Flatten)         (None, 128)               0         \n",
            "_________________________________________________________________\n",
            "fc_1 (Dense)                 (None, 256)               33024     \n",
            "_________________________________________________________________\n",
            "dropout_23 (Dropout)         (None, 256)               0         \n",
            "_________________________________________________________________\n",
            "fc_out (Dense)               (None, 10)                2570      \n",
            "=================================================================\n",
            "Total params: 52,090\n",
            "Trainable params: 52,026\n",
            "Non-trainable params: 64\n",
            "_________________________________________________________________\n",
            "Train on 60000 samples\n",
            "Epoch 1/15\n",
            "60000/60000 - 60s - loss: 1.3537 - acc: 0.5046\n",
            "Epoch 2/15\n",
            "60000/60000 - 59s - loss: 0.6961 - acc: 0.7396\n",
            "Epoch 3/15\n",
            "60000/60000 - 59s - loss: 0.5714 - acc: 0.7889\n",
            "Epoch 4/15\n",
            "60000/60000 - 59s - loss: 0.5068 - acc: 0.8126\n",
            "Epoch 5/15\n",
            "60000/60000 - 60s - loss: 0.4660 - acc: 0.8294\n",
            "Epoch 6/15\n",
            "60000/60000 - 59s - loss: 0.4350 - acc: 0.8402\n",
            "Epoch 7/15\n",
            "60000/60000 - 59s - loss: 0.4186 - acc: 0.8457\n",
            "Epoch 8/15\n",
            "60000/60000 - 59s - loss: 0.3948 - acc: 0.8562\n",
            "Epoch 9/15\n",
            "60000/60000 - 60s - loss: 0.3794 - acc: 0.8612\n",
            "Epoch 10/15\n",
            "60000/60000 - 60s - loss: 0.3716 - acc: 0.8621\n",
            "Epoch 11/15\n",
            "60000/60000 - 60s - loss: 0.3568 - acc: 0.8693\n",
            "Epoch 12/15\n",
            "60000/60000 - 59s - loss: 0.3473 - acc: 0.8725\n",
            "Epoch 13/15\n",
            "60000/60000 - 59s - loss: 0.3346 - acc: 0.8770\n",
            "Epoch 14/15\n",
            "60000/60000 - 59s - loss: 0.3285 - acc: 0.8794\n",
            "Epoch 15/15\n",
            "60000/60000 - 60s - loss: 0.3253 - acc: 0.8806\n"
          ],
          "name": "stdout"
        }
      ]
    },
    {
      "cell_type": "code",
      "metadata": {
        "id": "JWk_sFdNDwLn",
        "colab_type": "code",
        "colab": {}
      },
      "source": [
        "classes = vgg_model.predict(test_images_new)"
      ],
      "execution_count": 0,
      "outputs": []
    },
    {
      "cell_type": "code",
      "metadata": {
        "id": "IvBdBeAkPFJe",
        "colab_type": "code",
        "colab": {
          "base_uri": "https://localhost:8080/",
          "height": 364
        },
        "outputId": "4c06fb18-98d9-47a7-a382-e2d1a4d4b5d0"
      },
      "source": [
        "for i in range(20):\n",
        "  print(test_labels[i], np.argmax(classes[i]))"
      ],
      "execution_count": 61,
      "outputs": [
        {
          "output_type": "stream",
          "text": [
            "9 9\n",
            "2 2\n",
            "1 1\n",
            "1 1\n",
            "6 6\n",
            "1 1\n",
            "4 4\n",
            "6 6\n",
            "5 5\n",
            "7 7\n",
            "4 4\n",
            "5 5\n",
            "7 5\n",
            "3 3\n",
            "4 4\n",
            "1 1\n",
            "2 2\n",
            "4 6\n",
            "8 8\n",
            "0 0\n"
          ],
          "name": "stdout"
        }
      ]
    }
  ]
}