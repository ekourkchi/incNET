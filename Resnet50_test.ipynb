{
  "nbformat": 4,
  "nbformat_minor": 0,
  "metadata": {
    "colab": {
      "name": "Resnet50_test.ipynb",
      "provenance": [],
      "machine_shape": "hm",
      "mount_file_id": "https://github.com/ekourkchi/incNET-data/blob/master/Resnet50_test.ipynb",
      "authorship_tag": "ABX9TyPiOaEjc4mIGcBENneZ1kf9",
      "include_colab_link": true
    },
    "kernelspec": {
      "name": "python3",
      "display_name": "Python 3"
    },
    "accelerator": "GPU"
  },
  "cells": [
    {
      "cell_type": "markdown",
      "metadata": {
        "id": "view-in-github",
        "colab_type": "text"
      },
      "source": [
        "<a href=\"https://colab.research.google.com/github/ekourkchi/incNET-data/blob/master/Resnet50_test.ipynb\" target=\"_parent\"><img src=\"https://colab.research.google.com/assets/colab-badge.svg\" alt=\"Open In Colab\"/></a>"
      ]
    },
    {
      "cell_type": "code",
      "metadata": {
        "id": "9LrWoSxFCEVP",
        "colab_type": "code",
        "colab": {}
      },
      "source": [
        "import sys\n",
        "import os\n",
        "import subprocess\n",
        "from math import *\n",
        "import numpy as np\n",
        "from datetime import *\n",
        "from pylab import *\n",
        "import matplotlib as mpl\n",
        "from matplotlib.widgets import Slider, Button, RadioButtons\n",
        "import matplotlib.pyplot as plt\n",
        "from astropy.table import Table, Column \n",
        "from mpl_toolkits.axes_grid1 import make_axes_locatable\n",
        "import matplotlib.patches as patches\n",
        "import scipy.misc as scimisc\n",
        "import random\n",
        "from sklearn.model_selection import train_test_split\n",
        "\n",
        "# from google.colab import drive\n",
        "# drive.mount('/content/drive')"
      ],
      "execution_count": 1,
      "outputs": []
    },
    {
      "cell_type": "code",
      "metadata": {
        "id": "aXu4ij5MCHgz",
        "colab_type": "code",
        "colab": {}
      },
      "source": [
        "data = np.load('/content/drive/My Drive/data_64x64.npz')\n",
        "images_ = data['images']\n",
        "labels_ = data['labels'] \n",
        "data.close() "
      ],
      "execution_count": 2,
      "outputs": []
    },
    {
      "cell_type": "code",
      "metadata": {
        "id": "ZFDXSY2yCJTm",
        "colab_type": "code",
        "colab": {}
      },
      "source": [
        "ix, = np.where(labels_[1]>50)\n",
        "\n",
        "images_c = images_[ix]\n",
        "labels_c = labels_[1][ix]\n",
        "pgcIDs_c = labels_[0][ix]\n",
        "\n",
        "images_train, images_test, labels_train, labels_test, pgcIDs_train,  pgcIDs_test = train_test_split(images_c, labels_c, pgcIDs_c, test_size=0.40)\n",
        "\n",
        "notUnique = np.isin(pgcIDs_test, pgcIDs_train)\n",
        "Unique = np.logical_not(notUnique)\n",
        "\n",
        "images_train = np.concatenate((images_train, images_test[notUnique]))\n",
        "labels_train  = np.concatenate((labels_train, labels_test[notUnique]))\n",
        "pgcIDs_train = np.concatenate((pgcIDs_train, pgcIDs_test[notUnique]))\n",
        "\n",
        "images_test = images_test[Unique]\n",
        "labels_test = labels_test[Unique]\n",
        "pgcIDs_test = pgcIDs_test[Unique]\n"
      ],
      "execution_count": 3,
      "outputs": []
    },
    {
      "cell_type": "code",
      "metadata": {
        "id": "yCJcULsmDQLB",
        "colab_type": "code",
        "colab": {
          "base_uri": "https://localhost:8080/",
          "height": 118
        },
        "outputId": "bc27bb3c-7ea2-459e-ccf9-4a7e11097e75"
      },
      "source": [
        "print(images_train.shape)\n",
        "print(images_test.shape)\n",
        "print(labels_train.shape)\n",
        "print(labels_test.shape)\n",
        "print(pgcIDs_train.shape)\n",
        "print(pgcIDs_test.shape)"
      ],
      "execution_count": 4,
      "outputs": [
        {
          "output_type": "stream",
          "text": [
            "(41916, 64, 64, 3)\n",
            "(1108, 64, 64, 3)\n",
            "(41916,)\n",
            "(1108,)\n",
            "(41916,)\n",
            "(1108,)\n"
          ],
          "name": "stdout"
        }
      ]
    },
    {
      "cell_type": "code",
      "metadata": {
        "id": "aLHZWonFH1qt",
        "colab_type": "code",
        "colab": {}
      },
      "source": [
        "labels_train  = labels_train - 51\n",
        "labels_test   = labels_test - 51\n",
        "images_test   = images_test / 255.\n",
        "images_train  = images_train / 255."
      ],
      "execution_count": 5,
      "outputs": []
    },
    {
      "cell_type": "code",
      "metadata": {
        "id": "7RC5c3v1EVRe",
        "colab_type": "code",
        "colab": {}
      },
      "source": [
        "from keras.applications.resnet50 import ResNet50\n",
        "from keras.models import Model\n",
        "import keras\n",
        "\n",
        "resnet = ResNet50(include_top=False, weights='imagenet', input_shape=(64, 64,3))\n",
        "\n",
        "resnet.trainable = False\n",
        "\n",
        "# for layer in resnet.layers[:-4]:\n",
        "#     layer.trainable = False"
      ],
      "execution_count": 23,
      "outputs": []
    },
    {
      "cell_type": "code",
      "metadata": {
        "id": "wacSOaYhGisC",
        "colab_type": "code",
        "colab": {
          "base_uri": "https://localhost:8080/",
          "height": 580
        },
        "outputId": "cc6dbf4d-0e9c-4d3d-e6f1-d5bc71f02e58"
      },
      "source": [
        "import pandas as pd\n",
        "layers = [(layer, layer.name, layer.trainable) for layer in resnet.layers]\n",
        "pd.DataFrame(layers, columns=['Layer Type', 'Layer Name', 'Layer Trainable']).tail(18)"
      ],
      "execution_count": 24,
      "outputs": [
        {
          "output_type": "execute_result",
          "data": {
            "text/html": [
              "<div>\n",
              "<style scoped>\n",
              "    .dataframe tbody tr th:only-of-type {\n",
              "        vertical-align: middle;\n",
              "    }\n",
              "\n",
              "    .dataframe tbody tr th {\n",
              "        vertical-align: top;\n",
              "    }\n",
              "\n",
              "    .dataframe thead th {\n",
              "        text-align: right;\n",
              "    }\n",
              "</style>\n",
              "<table border=\"1\" class=\"dataframe\">\n",
              "  <thead>\n",
              "    <tr style=\"text-align: right;\">\n",
              "      <th></th>\n",
              "      <th>Layer Type</th>\n",
              "      <th>Layer Name</th>\n",
              "      <th>Layer Trainable</th>\n",
              "    </tr>\n",
              "  </thead>\n",
              "  <tbody>\n",
              "    <tr>\n",
              "      <th>157</th>\n",
              "      <td>&lt;tensorflow.python.keras.layers.core.Activatio...</td>\n",
              "      <td>conv5_block2_1_relu</td>\n",
              "      <td>False</td>\n",
              "    </tr>\n",
              "    <tr>\n",
              "      <th>158</th>\n",
              "      <td>&lt;tensorflow.python.keras.layers.convolutional....</td>\n",
              "      <td>conv5_block2_2_conv</td>\n",
              "      <td>False</td>\n",
              "    </tr>\n",
              "    <tr>\n",
              "      <th>159</th>\n",
              "      <td>&lt;tensorflow.python.keras.layers.normalization_...</td>\n",
              "      <td>conv5_block2_2_bn</td>\n",
              "      <td>False</td>\n",
              "    </tr>\n",
              "    <tr>\n",
              "      <th>160</th>\n",
              "      <td>&lt;tensorflow.python.keras.layers.core.Activatio...</td>\n",
              "      <td>conv5_block2_2_relu</td>\n",
              "      <td>False</td>\n",
              "    </tr>\n",
              "    <tr>\n",
              "      <th>161</th>\n",
              "      <td>&lt;tensorflow.python.keras.layers.convolutional....</td>\n",
              "      <td>conv5_block2_3_conv</td>\n",
              "      <td>False</td>\n",
              "    </tr>\n",
              "    <tr>\n",
              "      <th>162</th>\n",
              "      <td>&lt;tensorflow.python.keras.layers.normalization_...</td>\n",
              "      <td>conv5_block2_3_bn</td>\n",
              "      <td>False</td>\n",
              "    </tr>\n",
              "    <tr>\n",
              "      <th>163</th>\n",
              "      <td>&lt;tensorflow.python.keras.layers.merge.Add obje...</td>\n",
              "      <td>conv5_block2_add</td>\n",
              "      <td>False</td>\n",
              "    </tr>\n",
              "    <tr>\n",
              "      <th>164</th>\n",
              "      <td>&lt;tensorflow.python.keras.layers.core.Activatio...</td>\n",
              "      <td>conv5_block2_out</td>\n",
              "      <td>False</td>\n",
              "    </tr>\n",
              "    <tr>\n",
              "      <th>165</th>\n",
              "      <td>&lt;tensorflow.python.keras.layers.convolutional....</td>\n",
              "      <td>conv5_block3_1_conv</td>\n",
              "      <td>False</td>\n",
              "    </tr>\n",
              "    <tr>\n",
              "      <th>166</th>\n",
              "      <td>&lt;tensorflow.python.keras.layers.normalization_...</td>\n",
              "      <td>conv5_block3_1_bn</td>\n",
              "      <td>False</td>\n",
              "    </tr>\n",
              "    <tr>\n",
              "      <th>167</th>\n",
              "      <td>&lt;tensorflow.python.keras.layers.core.Activatio...</td>\n",
              "      <td>conv5_block3_1_relu</td>\n",
              "      <td>False</td>\n",
              "    </tr>\n",
              "    <tr>\n",
              "      <th>168</th>\n",
              "      <td>&lt;tensorflow.python.keras.layers.convolutional....</td>\n",
              "      <td>conv5_block3_2_conv</td>\n",
              "      <td>False</td>\n",
              "    </tr>\n",
              "    <tr>\n",
              "      <th>169</th>\n",
              "      <td>&lt;tensorflow.python.keras.layers.normalization_...</td>\n",
              "      <td>conv5_block3_2_bn</td>\n",
              "      <td>False</td>\n",
              "    </tr>\n",
              "    <tr>\n",
              "      <th>170</th>\n",
              "      <td>&lt;tensorflow.python.keras.layers.core.Activatio...</td>\n",
              "      <td>conv5_block3_2_relu</td>\n",
              "      <td>False</td>\n",
              "    </tr>\n",
              "    <tr>\n",
              "      <th>171</th>\n",
              "      <td>&lt;tensorflow.python.keras.layers.convolutional....</td>\n",
              "      <td>conv5_block3_3_conv</td>\n",
              "      <td>False</td>\n",
              "    </tr>\n",
              "    <tr>\n",
              "      <th>172</th>\n",
              "      <td>&lt;tensorflow.python.keras.layers.normalization_...</td>\n",
              "      <td>conv5_block3_3_bn</td>\n",
              "      <td>False</td>\n",
              "    </tr>\n",
              "    <tr>\n",
              "      <th>173</th>\n",
              "      <td>&lt;tensorflow.python.keras.layers.merge.Add obje...</td>\n",
              "      <td>conv5_block3_add</td>\n",
              "      <td>False</td>\n",
              "    </tr>\n",
              "    <tr>\n",
              "      <th>174</th>\n",
              "      <td>&lt;tensorflow.python.keras.layers.core.Activatio...</td>\n",
              "      <td>conv5_block3_out</td>\n",
              "      <td>False</td>\n",
              "    </tr>\n",
              "  </tbody>\n",
              "</table>\n",
              "</div>"
            ],
            "text/plain": [
              "                                            Layer Type  ... Layer Trainable\n",
              "157  <tensorflow.python.keras.layers.core.Activatio...  ...           False\n",
              "158  <tensorflow.python.keras.layers.convolutional....  ...           False\n",
              "159  <tensorflow.python.keras.layers.normalization_...  ...           False\n",
              "160  <tensorflow.python.keras.layers.core.Activatio...  ...           False\n",
              "161  <tensorflow.python.keras.layers.convolutional....  ...           False\n",
              "162  <tensorflow.python.keras.layers.normalization_...  ...           False\n",
              "163  <tensorflow.python.keras.layers.merge.Add obje...  ...           False\n",
              "164  <tensorflow.python.keras.layers.core.Activatio...  ...           False\n",
              "165  <tensorflow.python.keras.layers.convolutional....  ...           False\n",
              "166  <tensorflow.python.keras.layers.normalization_...  ...           False\n",
              "167  <tensorflow.python.keras.layers.core.Activatio...  ...           False\n",
              "168  <tensorflow.python.keras.layers.convolutional....  ...           False\n",
              "169  <tensorflow.python.keras.layers.normalization_...  ...           False\n",
              "170  <tensorflow.python.keras.layers.core.Activatio...  ...           False\n",
              "171  <tensorflow.python.keras.layers.convolutional....  ...           False\n",
              "172  <tensorflow.python.keras.layers.normalization_...  ...           False\n",
              "173  <tensorflow.python.keras.layers.merge.Add obje...  ...           False\n",
              "174  <tensorflow.python.keras.layers.core.Activatio...  ...           False\n",
              "\n",
              "[18 rows x 3 columns]"
            ]
          },
          "metadata": {
            "tags": []
          },
          "execution_count": 24
        }
      ]
    },
    {
      "cell_type": "code",
      "metadata": {
        "id": "IY9SJnnwDZ4e",
        "colab_type": "code",
        "colab": {}
      },
      "source": [
        "from keras.layers import Conv2D, MaxPooling2D, Flatten, Dense, Dropout, InputLayer\n",
        "from keras.models import Sequential\n",
        "from keras import optimizers\n",
        "\n",
        "model = Sequential()\n",
        "\n",
        "model.add(resnet)\n",
        "# for layer in resnet.layers[:-1]: # just exclude last layer from copying\n",
        "#   model.add(layer)\n",
        "\n",
        "model.add(Flatten())\n",
        "model.add(Dense(128, activation='relu'))\n",
        "# model.add(Dropout(0.3))\n",
        "# model.add(Dense(128, activation='relu'))\n",
        "# model.add(Dropout(0.3))\n",
        "model.add(Dense(40, activation='softmax'))\n",
        "\n",
        "# model.summary()"
      ],
      "execution_count": 25,
      "outputs": []
    },
    {
      "cell_type": "code",
      "metadata": {
        "id": "Jll6A7KwEPhx",
        "colab_type": "code",
        "colab": {
          "base_uri": "https://localhost:8080/",
          "height": 286
        },
        "outputId": "28a0a696-cd36-413c-8a29-e86b0dc8d1c7"
      },
      "source": [
        "model.compile(loss = 'sparse_categorical_crossentropy', optimizer='adam', metrics=['accuracy'])\n",
        "n_epochs = 30\n",
        "model.summary()\n"
      ],
      "execution_count": 26,
      "outputs": [
        {
          "output_type": "stream",
          "text": [
            "Model: \"sequential_2\"\n",
            "_________________________________________________________________\n",
            "Layer (type)                 Output Shape              Param #   \n",
            "=================================================================\n",
            "resnet50 (Functional)        (None, 2, 2, 2048)        23587712  \n",
            "_________________________________________________________________\n",
            "flatten_2 (Flatten)          (None, 8192)              0         \n",
            "_________________________________________________________________\n",
            "dense_4 (Dense)              (None, 128)               1048704   \n",
            "_________________________________________________________________\n",
            "dense_5 (Dense)              (None, 40)                5160      \n",
            "=================================================================\n",
            "Total params: 24,641,576\n",
            "Trainable params: 1,053,864\n",
            "Non-trainable params: 23,587,712\n",
            "_________________________________________________________________\n"
          ],
          "name": "stdout"
        }
      ]
    },
    {
      "cell_type": "code",
      "metadata": {
        "id": "1bPfP6-eHiaK",
        "colab_type": "code",
        "colab": {
          "base_uri": "https://localhost:8080/",
          "height": 1000
        },
        "outputId": "0caf18d0-7d9e-4336-d159-5003e01e4d19"
      },
      "source": [
        "model_history = model.fit(images_train, labels_train, \n",
        "                                  epochs=n_epochs, batch_size=512, verbose=2, \n",
        "                                  validation_data=(images_test, labels_test),\n",
        "                                  shuffle=False)"
      ],
      "execution_count": 27,
      "outputs": [
        {
          "output_type": "stream",
          "text": [
            "Epoch 1/30\n",
            "82/82 - 8s - loss: 3.6138 - accuracy: 0.0462 - val_loss: 3.5498 - val_accuracy: 0.0397\n",
            "Epoch 2/30\n",
            "82/82 - 7s - loss: 3.5268 - accuracy: 0.0514 - val_loss: 3.4444 - val_accuracy: 0.0532\n",
            "Epoch 3/30\n",
            "82/82 - 7s - loss: 3.3886 - accuracy: 0.0731 - val_loss: 3.3042 - val_accuracy: 0.1146\n",
            "Epoch 4/30\n",
            "82/82 - 7s - loss: 3.2515 - accuracy: 0.0940 - val_loss: 3.2072 - val_accuracy: 0.1182\n",
            "Epoch 5/30\n",
            "82/82 - 7s - loss: 3.1637 - accuracy: 0.1013 - val_loss: 3.1483 - val_accuracy: 0.1209\n",
            "Epoch 6/30\n",
            "82/82 - 7s - loss: 3.1096 - accuracy: 0.1073 - val_loss: 3.1078 - val_accuracy: 0.1255\n",
            "Epoch 7/30\n",
            "82/82 - 7s - loss: 3.0722 - accuracy: 0.1107 - val_loss: 3.0766 - val_accuracy: 0.1264\n",
            "Epoch 8/30\n",
            "82/82 - 7s - loss: 3.0439 - accuracy: 0.1117 - val_loss: 3.0519 - val_accuracy: 0.1255\n",
            "Epoch 9/30\n",
            "82/82 - 7s - loss: 3.0211 - accuracy: 0.1145 - val_loss: 3.0312 - val_accuracy: 0.1173\n",
            "Epoch 10/30\n",
            "82/82 - 7s - loss: 3.0019 - accuracy: 0.1161 - val_loss: 3.0142 - val_accuracy: 0.1209\n",
            "Epoch 11/30\n",
            "82/82 - 7s - loss: 2.9852 - accuracy: 0.1173 - val_loss: 2.9986 - val_accuracy: 0.1191\n",
            "Epoch 12/30\n",
            "82/82 - 7s - loss: 2.9703 - accuracy: 0.1189 - val_loss: 2.9862 - val_accuracy: 0.1200\n",
            "Epoch 13/30\n",
            "82/82 - 7s - loss: 2.9568 - accuracy: 0.1212 - val_loss: 2.9743 - val_accuracy: 0.1209\n",
            "Epoch 14/30\n",
            "82/82 - 7s - loss: 2.9444 - accuracy: 0.1222 - val_loss: 2.9626 - val_accuracy: 0.1218\n",
            "Epoch 15/30\n",
            "82/82 - 7s - loss: 2.9330 - accuracy: 0.1222 - val_loss: 2.9524 - val_accuracy: 0.1255\n",
            "Epoch 16/30\n",
            "82/82 - 7s - loss: 2.9225 - accuracy: 0.1234 - val_loss: 2.9445 - val_accuracy: 0.1264\n",
            "Epoch 17/30\n",
            "82/82 - 7s - loss: 2.9125 - accuracy: 0.1247 - val_loss: 2.9364 - val_accuracy: 0.1227\n",
            "Epoch 18/30\n",
            "82/82 - 7s - loss: 2.9037 - accuracy: 0.1259 - val_loss: 2.9285 - val_accuracy: 0.1200\n",
            "Epoch 19/30\n",
            "82/82 - 7s - loss: 2.8948 - accuracy: 0.1265 - val_loss: 2.9223 - val_accuracy: 0.1209\n",
            "Epoch 20/30\n",
            "82/82 - 7s - loss: 2.8866 - accuracy: 0.1277 - val_loss: 2.9155 - val_accuracy: 0.1173\n",
            "Epoch 21/30\n",
            "82/82 - 7s - loss: 2.8790 - accuracy: 0.1286 - val_loss: 2.9084 - val_accuracy: 0.1173\n",
            "Epoch 22/30\n",
            "82/82 - 7s - loss: 2.8716 - accuracy: 0.1299 - val_loss: 2.9033 - val_accuracy: 0.1236\n",
            "Epoch 23/30\n",
            "82/82 - 7s - loss: 2.8646 - accuracy: 0.1300 - val_loss: 2.8999 - val_accuracy: 0.1191\n",
            "Epoch 24/30\n",
            "82/82 - 7s - loss: 2.8578 - accuracy: 0.1309 - val_loss: 2.8956 - val_accuracy: 0.1128\n",
            "Epoch 25/30\n",
            "82/82 - 7s - loss: 2.8513 - accuracy: 0.1320 - val_loss: 2.8907 - val_accuracy: 0.1227\n",
            "Epoch 26/30\n",
            "82/82 - 7s - loss: 2.8449 - accuracy: 0.1332 - val_loss: 2.8855 - val_accuracy: 0.1273\n",
            "Epoch 27/30\n",
            "82/82 - 7s - loss: 2.8388 - accuracy: 0.1334 - val_loss: 2.8823 - val_accuracy: 0.1291\n",
            "Epoch 28/30\n",
            "82/82 - 7s - loss: 2.8330 - accuracy: 0.1331 - val_loss: 2.8799 - val_accuracy: 0.1264\n",
            "Epoch 29/30\n",
            "82/82 - 7s - loss: 2.8275 - accuracy: 0.1345 - val_loss: 2.8754 - val_accuracy: 0.1318\n",
            "Epoch 30/30\n",
            "82/82 - 7s - loss: 2.8220 - accuracy: 0.1353 - val_loss: 2.8704 - val_accuracy: 0.1372\n"
          ],
          "name": "stdout"
        }
      ]
    },
    {
      "cell_type": "code",
      "metadata": {
        "id": "huMYFEkwJs7K",
        "colab_type": "code",
        "colab": {
          "base_uri": "https://localhost:8080/",
          "height": 350
        },
        "outputId": "2f7adc3e-0f01-4295-a9ac-ad035fa57d9e"
      },
      "source": [
        "def plot_model_history(history):\n",
        "    '''Plot the training and validation history for a TensorFlow network'''\n",
        "\n",
        "    # Extract loss and accuracy\n",
        "    loss = history.history['loss']\n",
        "    val_loss = history.history['val_loss']\n",
        "    acc = history.history['accuracy']\n",
        "    val_acc = history.history['val_accuracy']\n",
        "    \n",
        "    fig, ax = plt.subplots(nrows=1,ncols=2, figsize=(10,5))\n",
        "    ax[0].plot(np.arange(n_epochs), loss, label='Training Loss')\n",
        "    ax[0].plot(np.arange(n_epochs), val_loss, label='Validation Loss')\n",
        "    ax[0].set_title('Loss Curves')\n",
        "    ax[0].legend()\n",
        "    ax[0].set_xlabel('Epoch')\n",
        "    ax[0].set_ylabel('Loss')\n",
        "\n",
        "    ax[1].plot(np.arange(n_epochs), acc, label='Training Accuracy')\n",
        "    ax[1].plot(np.arange(n_epochs), val_acc, label='Validation Accuracy')\n",
        "    ax[1].set_title('Accuracy Curves')\n",
        "    ax[1].legend()\n",
        "    ax[1].set_xlabel('Epoch')\n",
        "    ax[1].set_ylabel('Accuracy')\n",
        "    \n",
        "# plot the training history\n",
        "# print vgg_model.history.history['loss']\n",
        "\n",
        "plot_model_history(model_history)\n",
        "  "
      ],
      "execution_count": 28,
      "outputs": [
        {
          "output_type": "display_data",
          "data": {
            "image/png": "[encoded data removed]",
            "text/plain": [
              "<Figure size 720x360 with 2 Axes>"
            ]
          },
          "metadata": {
            "tags": [],
            "needs_background": "light"
          }
        }
      ]
    },
    {
      "cell_type": "code",
      "metadata": {
        "id": "hTw-_jFk_zZ5",
        "colab_type": "code",
        "colab": {}
      },
      "source": [
        "inc_p = model.predict(images_test)\n",
        "inc_m = labels_test +51\n",
        "\n",
        "\n",
        "N = images_test.shape[0]\n",
        "\n",
        "inc_p = np.argmax(inc_p, axis=1) + 51"
      ],
      "execution_count": 29,
      "outputs": []
    },
    {
      "cell_type": "code",
      "metadata": {
        "id": "lTKz7-lF_1MU",
        "colab_type": "code",
        "colab": {
          "base_uri": "https://localhost:8080/",
          "height": 393
        },
        "outputId": "b17419cc-7423-43c4-9c2d-c412465068f5"
      },
      "source": [
        "fig, ax = plt.subplots(nrows=1,ncols=2, figsize=(10,5)) \n",
        "\n",
        "d = inc_m-inc_p\n",
        "\n",
        "m, b = np.polyfit(inc_m, d, 1)\n",
        "x = np.linspace(50,90,20)\n",
        "y  = m*x+b\n",
        "\n",
        "ax[0].plot(inc_m, d, 'b.')\n",
        "ax[0].plot([50,90],[0,0], 'k:')\n",
        "ax[0].plot(x, y, 'r-')\n",
        "ax[0].set_xlim(48,92)\n",
        "ax[0].set_ylim(-30,30)\n",
        "ax[0].set_title('Raw Prediction', fontsize=16)\n",
        "ax[0].set_xlabel(r'$i_m$'+'  (measured inclination)', fontsize=14)\n",
        "ax[0].set_ylabel(r'$\\Delta i = i_m-i_p$', fontsize=14)\n",
        "\n",
        "print(np.sqrt(np.mean((d)**2)))\n",
        "\n",
        "\n",
        "d_ = inc_m-(inc_p+b)/(1.-m)\n",
        "ax[1].plot(inc_m, d_, 'g.')\n",
        "ax[1].plot([50,90],[0,0], 'k:')\n",
        "ax[1].set_xlim(48,92)\n",
        "ax[1].set_ylim(-30,30)\n",
        "\n",
        "print(np.sqrt(np.mean((d_)**2)))\n",
        "ax[1].set_title('Adjusted Prediction', fontsize=16)\n",
        "ax[1].set_xlabel(r'$i_m$'+'  (measured inclination)', fontsize=14)\n",
        "ax[1].set_ylabel(r'$\\Delta i = i_m-i_{pc}$', fontsize=14)\n",
        "\n",
        "plt.subplots_adjust( wspace=0.3)"
      ],
      "execution_count": 30,
      "outputs": [
        {
          "output_type": "stream",
          "text": [
            "6.64310668482697\n",
            "7.429925828169766\n"
          ],
          "name": "stdout"
        },
        {
          "output_type": "display_data",
          "data": {
            "image/png": "[encoded data removed]",
            "text/plain": [
              "<Figure size 720x360 with 2 Axes>"
            ]
          },
          "metadata": {
            "tags": [],
            "needs_background": "light"
          }
        }
      ]
    },
    {
      "cell_type": "code",
      "metadata": {
        "id": "DFGBmQnQH6sk",
        "colab_type": "code",
        "colab": {}
      },
      "source": [
        ""
      ],
      "execution_count": 30,
      "outputs": []
    }
  ]
}