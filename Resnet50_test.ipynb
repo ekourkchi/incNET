{
  "nbformat": 4,
  "nbformat_minor": 0,
  "metadata": {
    "colab": {
      "name": "Resnet50_test.ipynb",
      "provenance": [],
      "mount_file_id": "1cuxAAJ4UPBYltBpIpTE30w_DMXiRqDv_",
      "authorship_tag": "ABX9TyOcg7uTY8mZtyccjR/WCOva",
      "include_colab_link": true
    },
    "kernelspec": {
      "name": "python3",
      "display_name": "Python 3"
    }
  },
  "cells": [
    {
      "cell_type": "markdown",
      "metadata": {
        "id": "view-in-github",
        "colab_type": "text"
      },
      "source": [
        "<a href=\"https://colab.research.google.com/github/ekourkchi/incNET-data/blob/master/Resnet50_test.ipynb\" target=\"_parent\"><img src=\"https://colab.research.google.com/assets/colab-badge.svg\" alt=\"Open In Colab\"/></a>"
      ]
    },
    {
      "cell_type": "code",
      "metadata": {
        "id": "9LrWoSxFCEVP",
        "colab_type": "code",
        "colab": {}
      },
      "source": [
        "import sys\n",
        "import os\n",
        "import subprocess\n",
        "from math import *\n",
        "import numpy as np\n",
        "from datetime import *\n",
        "from pylab import *\n",
        "import matplotlib as mpl\n",
        "from matplotlib.widgets import Slider, Button, RadioButtons\n",
        "import matplotlib.pyplot as plt\n",
        "from astropy.table import Table, Column \n",
        "from mpl_toolkits.axes_grid1 import make_axes_locatable\n",
        "import matplotlib.patches as patches\n",
        "import scipy.misc as scimisc\n",
        "import random\n",
        "from sklearn.model_selection import train_test_split\n",
        "\n",
        "# from google.colab import drive\n",
        "# drive.mount('/content/drive')"
      ],
      "execution_count": 3,
      "outputs": []
    },
    {
      "cell_type": "code",
      "metadata": {
        "id": "aXu4ij5MCHgz",
        "colab_type": "code",
        "colab": {}
      },
      "source": [
        "data = np.load('/content/drive/My Drive/data_64x64.npz')\n",
        "images_ = data['images']\n",
        "labels_ = data['labels'] \n",
        "data.close() "
      ],
      "execution_count": 4,
      "outputs": []
    },
    {
      "cell_type": "code",
      "metadata": {
        "id": "ZFDXSY2yCJTm",
        "colab_type": "code",
        "colab": {}
      },
      "source": [
        "ix, = np.where(labels_[1]>50)\n",
        "\n",
        "images_c = images_[ix]\n",
        "labels_c = labels_[1][ix]\n",
        "pgcIDs_c = labels_[0][ix]\n",
        "\n",
        "images_train, images_test, labels_train, labels_test, pgcIDs_train,  pgcIDs_test = train_test_split(images_c, labels_c, pgcIDs_c, test_size=0.40)\n",
        "\n",
        "notUnique = np.isin(pgcIDs_test, pgcIDs_train)\n",
        "Unique = np.logical_not(notUnique)\n",
        "\n",
        "images_train = np.concatenate((images_train, images_test[notUnique]))\n",
        "labels_train  = np.concatenate((labels_train, labels_test[notUnique]))\n",
        "pgcIDs_train = np.concatenate((pgcIDs_train, pgcIDs_test[notUnique]))\n",
        "\n",
        "images_test = images_test[Unique]\n",
        "labels_test = labels_test[Unique]\n",
        "pgcIDs_test = pgcIDs_test[Unique]\n"
      ],
      "execution_count": 5,
      "outputs": []
    },
    {
      "cell_type": "code",
      "metadata": {
        "id": "yCJcULsmDQLB",
        "colab_type": "code",
        "colab": {
          "base_uri": "https://localhost:8080/",
          "height": 118
        },
        "outputId": "51ccb4b5-d78a-4421-e21b-8a2f1e618447"
      },
      "source": [
        "print(images_train.shape)\n",
        "print(images_test.shape)\n",
        "print(labels_train.shape)\n",
        "print(labels_test.shape)\n",
        "print(pgcIDs_train.shape)\n",
        "print(pgcIDs_test.shape)"
      ],
      "execution_count": 6,
      "outputs": [
        {
          "output_type": "stream",
          "text": [
            "(41952, 64, 64, 3)\n",
            "(1072, 64, 64, 3)\n",
            "(41952,)\n",
            "(1072,)\n",
            "(41952,)\n",
            "(1072,)\n"
          ],
          "name": "stdout"
        }
      ]
    },
    {
      "cell_type": "code",
      "metadata": {
        "id": "aLHZWonFH1qt",
        "colab_type": "code",
        "colab": {}
      },
      "source": [
        "labels_train  = labels_train - 51\n",
        "labels_test   = labels_test - 51\n",
        "images_test   = images_test / 255.\n",
        "images_train  = images_train / 255."
      ],
      "execution_count": 7,
      "outputs": []
    },
    {
      "cell_type": "code",
      "metadata": {
        "id": "7RC5c3v1EVRe",
        "colab_type": "code",
        "colab": {}
      },
      "source": [
        "from keras.applications.resnet50 import ResNet50\n",
        "from keras.models import Model\n",
        "import keras\n",
        "\n",
        "restnet = ResNet50(include_top=False, weights='imagenet', input_shape=(64, 64,3))\n",
        "\n",
        "for layer in restnet.layers:\n",
        "    layer.trainable = False"
      ],
      "execution_count": 9,
      "outputs": []
    },
    {
      "cell_type": "code",
      "metadata": {
        "id": "IY9SJnnwDZ4e",
        "colab_type": "code",
        "colab": {}
      },
      "source": [
        "from keras.layers import Conv2D, MaxPooling2D, Flatten, Dense, Dropout, InputLayer\n",
        "from keras.models import Sequential\n",
        "from keras import optimizers\n",
        "\n",
        "model = Sequential()\n",
        "model.add(restnet)\n",
        "model.add(Flatten())\n",
        "# model.add(Dense(512, activation='relu'))\n",
        "# model.add(Dropout(0.3))\n",
        "model.add(Dense(512, activation='relu'))\n",
        "model.add(Dropout(0.3))\n",
        "model.add(Dense(40, activation='softmax'))\n",
        "\n",
        "# model.summary()"
      ],
      "execution_count": 10,
      "outputs": []
    },
    {
      "cell_type": "code",
      "metadata": {
        "id": "Jll6A7KwEPhx",
        "colab_type": "code",
        "colab": {
          "base_uri": "https://localhost:8080/",
          "height": 319
        },
        "outputId": "9312e63e-d338-4dd7-db1b-ed6d260aa497"
      },
      "source": [
        "model.compile(loss = 'sparse_categorical_crossentropy', optimizer='adam', metrics=['accuracy'])\n",
        "n_epochs = 30\n",
        "model.summary()\n"
      ],
      "execution_count": 11,
      "outputs": [
        {
          "output_type": "stream",
          "text": [
            "Model: \"sequential\"\n",
            "_________________________________________________________________\n",
            "Layer (type)                 Output Shape              Param #   \n",
            "=================================================================\n",
            "resnet50 (Functional)        (None, 2, 2, 2048)        23587712  \n",
            "_________________________________________________________________\n",
            "flatten (Flatten)            (None, 8192)              0         \n",
            "_________________________________________________________________\n",
            "dense (Dense)                (None, 512)               4194816   \n",
            "_________________________________________________________________\n",
            "dropout (Dropout)            (None, 512)               0         \n",
            "_________________________________________________________________\n",
            "dense_1 (Dense)              (None, 40)                20520     \n",
            "=================================================================\n",
            "Total params: 27,803,048\n",
            "Trainable params: 4,215,336\n",
            "Non-trainable params: 23,587,712\n",
            "_________________________________________________________________\n"
          ],
          "name": "stdout"
        }
      ]
    },
    {
      "cell_type": "code",
      "metadata": {
        "id": "1bPfP6-eHiaK",
        "colab_type": "code",
        "colab": {
          "base_uri": "https://localhost:8080/",
          "height": 34
        },
        "outputId": "7a06c448-8681-456c-f9d2-46a524dce02f"
      },
      "source": [
        "model_history = model.fit(images_train, labels_train, \n",
        "                                  epochs=n_epochs, batch_size=512, verbose=2, \n",
        "                                  validation_data=(images_test, labels_test),\n",
        "                                  shuffle=False)"
      ],
      "execution_count": null,
      "outputs": [
        {
          "output_type": "stream",
          "text": [
            "Epoch 1/30\n"
          ],
          "name": "stdout"
        }
      ]
    },
    {
      "cell_type": "code",
      "metadata": {
        "id": "huMYFEkwJs7K",
        "colab_type": "code",
        "colab": {}
      },
      "source": [
        ""
      ],
      "execution_count": null,
      "outputs": []
    }
  ]
}