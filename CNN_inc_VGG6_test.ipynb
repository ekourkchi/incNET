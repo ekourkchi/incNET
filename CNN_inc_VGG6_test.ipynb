{
 "cells": [
  {
   "cell_type": "code",
   "execution_count": 1,
   "metadata": {},
   "outputs": [],
   "source": [
    "import sys\n",
    "import os\n",
    "import subprocess\n",
    "from math import *\n",
    "import numpy as np\n",
    "from datetime import *\n",
    "from pylab import *\n",
    "import matplotlib as mpl\n",
    "from matplotlib.widgets import Slider, Button, RadioButtons\n",
    "import matplotlib.pyplot as plt\n",
    "from astropy.table import Table, Column \n",
    "from mpl_toolkits.axes_grid1 import make_axes_locatable\n",
    "import matplotlib.patches as patches\n",
    "import scipy.misc as scimisc\n",
    "import random"
   ]
  },
  {
   "cell_type": "code",
   "execution_count": 2,
   "metadata": {},
   "outputs": [],
   "source": [
    "data = np.load('data_56x56.npz')\n",
    "images_ = data['images']\n",
    "lables_ = data['labels'] \n",
    "data.close() "
   ]
  },
  {
   "cell_type": "code",
   "execution_count": 3,
   "metadata": {},
   "outputs": [
    {
     "name": "stdout",
     "output_type": "stream",
     "text": [
      "4\n"
     ]
    },
    {
     "data": {
      "text/plain": [
       "<matplotlib.image.AxesImage at 0x7f2a7469f350>"
      ]
     },
     "execution_count": 3,
     "metadata": {},
     "output_type": "execute_result"
    },
    {
     "data": {
      "image/png": "[encoded data removed]",
      "text/plain": [
       "<Figure size 432x288 with 1 Axes>"
      ]
     },
     "metadata": {},
     "output_type": "display_data"
    }
   ],
   "source": [
    "i = 53\n",
    "print lables_[i]\n",
    "plt.imshow(images_[i])"
   ]
  },
  {
   "cell_type": "code",
   "execution_count": 4,
   "metadata": {},
   "outputs": [
    {
     "data": {
      "text/plain": [
       "(array([3756., 3216., 3960.,    0., 3764., 6208.,    0., 6508., 6384.,\n",
       "        9228.]),\n",
       " array([ 4. ,  4.7,  5.4,  6.1,  6.8,  7.5,  8.2,  8.9,  9.6, 10.3, 11. ]),\n",
       " <a list of 10 Patch objects>)"
      ]
     },
     "execution_count": 4,
     "metadata": {},
     "output_type": "execute_result"
    },
    {
     "data": {
      "image/png": "[encoded data removed]",
      "text/plain": [
       "<Figure size 432x288 with 1 Axes>"
      ]
     },
     "metadata": {},
     "output_type": "display_data"
    }
   ],
   "source": [
    "plt.hist(lables_[lables_>3])"
   ]
  },
  {
   "cell_type": "code",
   "execution_count": 5,
   "metadata": {},
   "outputs": [
    {
     "name": "stdout",
     "output_type": "stream",
     "text": [
      "(60468, 56, 56, 3)\n",
      "(43024, 56, 56, 3)\n",
      "7\n"
     ]
    },
    {
     "data": {
      "image/png": "[encoded data removed]",
      "text/plain": [
       "<Figure size 432x288 with 1 Axes>"
      ]
     },
     "metadata": {},
     "output_type": "display_data"
    }
   ],
   "source": [
    "print images_.shape\n",
    "ix, = np.where(lables_>3)\n",
    "\n",
    "images_c = images_[ix]\n",
    "lables_c = lables_[ix]-4\n",
    "\n",
    "print images_c.shape\n",
    "\n",
    "i = 53\n",
    "plt.imshow(images_c[i])\n",
    "print lables_c[i]"
   ]
  },
  {
   "cell_type": "code",
   "execution_count": 6,
   "metadata": {},
   "outputs": [
    {
     "name": "stdout",
     "output_type": "stream",
     "text": [
      "set([0, 1, 2, 3, 4, 5, 6, 7])\n",
      "(43024, 56, 56, 3) (43024,)\n"
     ]
    }
   ],
   "source": [
    "print set(lables_c)\n",
    "print images_c.shape , lables_c.shape"
   ]
  },
  {
   "cell_type": "code",
   "execution_count": 7,
   "metadata": {},
   "outputs": [],
   "source": [
    "def esn_shuffle(array, seed=0):\n",
    "        random.seed(seed)\n",
    "        random.shuffle(array)\n",
    "        return array"
   ]
  },
  {
   "cell_type": "code",
   "execution_count": 8,
   "metadata": {},
   "outputs": [],
   "source": [
    "n = len(lables_c)\n",
    "\n",
    "indices = np.arange(n)\n",
    "indices = esn_shuffle(indices, seed=0)\n",
    "\n",
    "images_cc = images_c[indices]\n",
    "lables_cc = lables_c[indices]\n",
    "\n",
    "indices = np.arange(1000)\n",
    "images_test  = images_cc[indices]\n",
    "lables_test  = lables_cc[indices]\n",
    "\n",
    "indices = np.arange(1000, n)\n",
    "images_train = images_cc[indices]\n",
    "lables_train = lables_cc[indices]"
   ]
  },
  {
   "cell_type": "code",
   "execution_count": 9,
   "metadata": {},
   "outputs": [
    {
     "name": "stdout",
     "output_type": "stream",
     "text": [
      "(42024, 56, 56, 3) (42024,)\n",
      "(1000, 56, 56, 3) (1000,)\n"
     ]
    }
   ],
   "source": [
    "print images_train.shape , lables_train.shape\n",
    "print images_test.shape , lables_test.shape"
   ]
  },
  {
   "cell_type": "code",
   "execution_count": 10,
   "metadata": {},
   "outputs": [
    {
     "data": {
      "text/plain": [
       "(array([ 84.,  74.,  79.,   0., 102., 120.,   0., 158., 161., 222.]),\n",
       " array([0. , 0.7, 1.4, 2.1, 2.8, 3.5, 4.2, 4.9, 5.6, 6.3, 7. ]),\n",
       " <a list of 1 Patch objects>)"
      ]
     },
     "execution_count": 10,
     "metadata": {},
     "output_type": "execute_result"
    },
    {
     "data": {
      "image/png": "[encoded data removed]",
      "text/plain": [
       "<Figure size 432x288 with 1 Axes>"
      ]
     },
     "metadata": {},
     "output_type": "display_data"
    }
   ],
   "source": [
    "plt.hist(lables_train, histtype='step', label='train')\n",
    "plt.hist(lables_test, histtype='step', label='test')"
   ]
  },
  {
   "cell_type": "code",
   "execution_count": 11,
   "metadata": {},
   "outputs": [],
   "source": [
    "import tensorflow as tf\n",
    "from tensorflow.keras.models import Sequential\n",
    "from tensorflow.keras.layers import Dense, Conv2D, Flatten\n",
    "from tensorflow.keras.utils import to_categorical\n",
    "import matplotlib.pyplot as plt\n",
    "\n",
    "import numpy as np\n",
    "def vgg6(input_shape=(56, 56, 3), n_classes= 8):\n",
    "    \"\"\"\n",
    "        VGG6\n",
    "    :param input_shape:\n",
    "    :param n_classes:\n",
    "    :return:\n",
    "    \"\"\"\n",
    "\n",
    "    model = tf.keras.models.Sequential(name='VGG6')\n",
    "    # input: 21x21 images with 1 channel -> (21, 21, 1) tensors.\n",
    "    # this applies 16 convolution filters of size 3x3 each.\n",
    "    model.add(tf.keras.layers.Conv2D(16, (3, 3), activation='relu', input_shape=input_shape, name='conv1'))\n",
    "    model.add(tf.keras.layers.Conv2D(16, (3, 3), activation='relu', name='conv2'))\n",
    "    model.add(tf.keras.layers.MaxPooling2D(pool_size=(2, 2)))\n",
    "    model.add(tf.keras.layers.Dropout(0.25))\n",
    "\n",
    "    model.add(tf.keras.layers.Conv2D(32, (3, 3), activation='relu', name='conv3'))\n",
    "    model.add(tf.keras.layers.Conv2D(32, (3, 3), activation='relu', name='conv4'))\n",
    "    model.add(tf.keras.layers.BatchNormalization(axis = 3, name = 'bn_2'))\n",
    "    model.add(tf.keras.layers.MaxPooling2D(pool_size=(4, 4)))\n",
    "    model.add(tf.keras.layers.Dropout(0.25))\n",
    "\n",
    "    model.add(tf.keras.layers.Flatten())\n",
    "\n",
    "    model.add(tf.keras.layers.Dense(256, activation='relu', name='fc_1'))\n",
    "    model.add(tf.keras.layers.Dropout(0.5))\n",
    "    # output layer\n",
    "    activation = 'sigmoid' if n_classes == 1 else 'softmax'\n",
    "    model.add(tf.keras.layers.Dense(n_classes, activation=activation, name='fc_out'))\n",
    "\n",
    "    return model"
   ]
  },
  {
   "cell_type": "code",
   "execution_count": 12,
   "metadata": {},
   "outputs": [
    {
     "name": "stdout",
     "output_type": "stream",
     "text": [
      "WARNING:tensorflow:From /home/ehsan/anaconda2/lib/python2.7/site-packages/tensorflow/python/ops/resource_variable_ops.py:435: colocate_with (from tensorflow.python.framework.ops) is deprecated and will be removed in a future version.\n",
      "Instructions for updating:\n",
      "Colocations handled automatically by placer.\n",
      "WARNING:tensorflow:From /home/ehsan/anaconda2/lib/python2.7/site-packages/tensorflow/python/keras/layers/core.py:143: calling dropout (from tensorflow.python.ops.nn_ops) with keep_prob is deprecated and will be removed in a future version.\n",
      "Instructions for updating:\n",
      "Please use `rate` instead of `keep_prob`. Rate should be set to `rate = 1 - keep_prob`.\n",
      "_________________________________________________________________\n",
      "Layer (type)                 Output Shape              Param #   \n",
      "=================================================================\n",
      "conv1 (Conv2D)               (None, 54, 54, 16)        448       \n",
      "_________________________________________________________________\n",
      "conv2 (Conv2D)               (None, 52, 52, 16)        2320      \n",
      "_________________________________________________________________\n",
      "max_pooling2d (MaxPooling2D) (None, 26, 26, 16)        0         \n",
      "_________________________________________________________________\n",
      "dropout (Dropout)            (None, 26, 26, 16)        0         \n",
      "_________________________________________________________________\n",
      "conv3 (Conv2D)               (None, 24, 24, 32)        4640      \n",
      "_________________________________________________________________\n",
      "conv4 (Conv2D)               (None, 22, 22, 32)        9248      \n",
      "_________________________________________________________________\n",
      "bn_2 (BatchNormalizationV1)  (None, 22, 22, 32)        128       \n",
      "_________________________________________________________________\n",
      "max_pooling2d_1 (MaxPooling2 (None, 5, 5, 32)          0         \n",
      "_________________________________________________________________\n",
      "dropout_1 (Dropout)          (None, 5, 5, 32)          0         \n",
      "_________________________________________________________________\n",
      "flatten (Flatten)            (None, 800)               0         \n",
      "_________________________________________________________________\n",
      "fc_1 (Dense)                 (None, 256)               205056    \n",
      "_________________________________________________________________\n",
      "dropout_2 (Dropout)          (None, 256)               0         \n",
      "_________________________________________________________________\n",
      "fc_out (Dense)               (None, 8)                 2056      \n",
      "=================================================================\n",
      "Total params: 223,896\n",
      "Trainable params: 223,832\n",
      "Non-trainable params: 64\n",
      "_________________________________________________________________\n",
      "Train on 42024 samples, validate on 1000 samples\n",
      "Epoch 1/30\n",
      " - 162s - loss: 1.7339 - acc: 0.3797 - val_loss: 1.3367 - val_acc: 0.4360\n",
      "Epoch 2/30\n",
      " - 154s - loss: 1.2724 - acc: 0.4781 - val_loss: 1.1434 - val_acc: 0.5240\n",
      "Epoch 3/30\n",
      " - 153s - loss: 1.1421 - acc: 0.5237 - val_loss: 1.0522 - val_acc: 0.5780\n",
      "Epoch 4/30\n",
      " - 154s - loss: 1.0688 - acc: 0.5572 - val_loss: 0.9867 - val_acc: 0.5950\n",
      "Epoch 5/30\n",
      " - 156s - loss: 1.0261 - acc: 0.5736 - val_loss: 0.9219 - val_acc: 0.6260\n",
      "Epoch 6/30\n",
      " - 156s - loss: 0.9958 - acc: 0.5865 - val_loss: 0.9129 - val_acc: 0.6140\n",
      "Epoch 7/30\n",
      " - 152s - loss: 0.9682 - acc: 0.5986 - val_loss: 0.8758 - val_acc: 0.6500\n",
      "Epoch 8/30\n",
      " - 151s - loss: 0.9428 - acc: 0.6105 - val_loss: 0.8531 - val_acc: 0.6520\n",
      "Epoch 9/30\n",
      " - 152s - loss: 0.9312 - acc: 0.6144 - val_loss: 0.8336 - val_acc: 0.6600\n",
      "Epoch 10/30\n",
      " - 151s - loss: 0.9141 - acc: 0.6232 - val_loss: 0.8350 - val_acc: 0.6500\n",
      "Epoch 11/30\n",
      " - 155s - loss: 0.9053 - acc: 0.6284 - val_loss: 0.8081 - val_acc: 0.6630\n",
      "Epoch 12/30\n",
      " - 159s - loss: 0.8931 - acc: 0.6317 - val_loss: 0.8210 - val_acc: 0.6520\n",
      "Epoch 13/30\n",
      " - 180s - loss: 0.8844 - acc: 0.6374 - val_loss: 0.7705 - val_acc: 0.6780\n",
      "Epoch 14/30\n",
      " - 156s - loss: 0.8779 - acc: 0.6370 - val_loss: 0.8447 - val_acc: 0.6240\n",
      "Epoch 15/30\n",
      " - 172s - loss: 0.8725 - acc: 0.6401 - val_loss: 0.7731 - val_acc: 0.6940\n",
      "Epoch 16/30\n",
      " - 150s - loss: 0.8644 - acc: 0.6450 - val_loss: 0.7991 - val_acc: 0.6540\n",
      "Epoch 17/30\n",
      " - 166s - loss: 0.8565 - acc: 0.6456 - val_loss: 0.7899 - val_acc: 0.6740\n",
      "Epoch 18/30\n",
      " - 149s - loss: 0.8516 - acc: 0.6502 - val_loss: 0.9241 - val_acc: 0.5930\n",
      "Epoch 19/30\n",
      " - 168s - loss: 0.8498 - acc: 0.6508 - val_loss: 0.7599 - val_acc: 0.6770\n",
      "Epoch 20/30\n",
      " - 154s - loss: 0.8492 - acc: 0.6502 - val_loss: 0.7781 - val_acc: 0.6600\n",
      "Epoch 21/30\n",
      " - 176s - loss: 0.8419 - acc: 0.6529 - val_loss: 0.8751 - val_acc: 0.6000\n",
      "Epoch 22/30\n",
      " - 149s - loss: 0.8410 - acc: 0.6513 - val_loss: 0.8569 - val_acc: 0.6140\n",
      "Epoch 23/30\n",
      " - 165s - loss: 0.8284 - acc: 0.6561 - val_loss: 0.8152 - val_acc: 0.6550\n",
      "Epoch 24/30\n",
      " - 167s - loss: 0.8242 - acc: 0.6563 - val_loss: 0.7462 - val_acc: 0.6740\n",
      "Epoch 25/30\n",
      " - 174s - loss: 0.8226 - acc: 0.6603 - val_loss: 0.8236 - val_acc: 0.6400\n",
      "Epoch 26/30\n",
      " - 164s - loss: 0.8220 - acc: 0.6585 - val_loss: 0.7559 - val_acc: 0.6710\n",
      "Epoch 27/30\n",
      " - 155s - loss: 0.8111 - acc: 0.6638 - val_loss: 0.7534 - val_acc: 0.6860\n",
      "Epoch 28/30\n",
      " - 153s - loss: 0.8081 - acc: 0.6655 - val_loss: 0.7890 - val_acc: 0.6590\n",
      "Epoch 29/30\n",
      " - 158s - loss: 0.8103 - acc: 0.6641 - val_loss: 0.7334 - val_acc: 0.6950\n",
      "Epoch 30/30\n",
      " - 154s - loss: 0.8105 - acc: 0.6651 - val_loss: 0.7658 - val_acc: 0.6750\n"
     ]
    }
   ],
   "source": [
    "vgg_model = vgg6()\n",
    "vgg_model.compile(loss='sparse_categorical_crossentropy', optimizer='adam', metrics=['accuracy'])\n",
    "n_epochs=30\n",
    "vgg_model.summary()\n",
    "vgg_model_history = vgg_model.fit(images_train, lables_train, \n",
    "                                  epochs=n_epochs, batch_size=512, verbose=2, \n",
    "                                  validation_data=(images_test, lables_test),\n",
    "                                  shuffle=True)\n"
   ]
  },
  {
   "cell_type": "code",
   "execution_count": 16,
   "metadata": {},
   "outputs": [
    {
     "data": {
      "image/png": "[encoded data removed]",
      "text/plain": [
       "<Figure size 720x360 with 2 Axes>"
      ]
     },
     "metadata": {},
     "output_type": "display_data"
    }
   ],
   "source": [
    "def plot_model_history(history):\n",
    "    '''Plot the training and validation history for a TensorFlow network'''\n",
    "\n",
    "    # Extract loss and accuracy\n",
    "    loss = history.history['loss']\n",
    "    val_loss = history.history['val_loss']\n",
    "    acc = history.history['acc']\n",
    "    val_acc = history.history['val_acc']\n",
    "    \n",
    "    fig, ax = plt.subplots(nrows=1,ncols=2, figsize=(10,5))\n",
    "    ax[0].plot(np.arange(n_epochs), loss, label='Training Loss')\n",
    "    ax[0].plot(np.arange(n_epochs), val_loss, label='Validation Loss')\n",
    "    ax[0].set_title('Loss Curves')\n",
    "    ax[0].legend()\n",
    "    ax[0].set_xlabel('Epoch')\n",
    "    ax[0].set_ylabel('Loss')\n",
    "\n",
    "    ax[1].plot(np.arange(n_epochs), acc, label='Training Accuracy')\n",
    "    ax[1].plot(np.arange(n_epochs), val_acc, label='Validation Accuracy')\n",
    "    ax[1].set_title('Accuracy Curves')\n",
    "    ax[1].legend()\n",
    "    ax[1].set_xlabel('Epoch')\n",
    "    ax[1].set_ylabel('Accuracy')\n",
    "    \n",
    "# plot the training history\n",
    "# print vgg_model.history.history['loss']\n",
    "\n",
    "plot_model_history(vgg_model.history)\n",
    "  "
   ]
  },
  {
   "cell_type": "code",
   "execution_count": 17,
   "metadata": {},
   "outputs": [],
   "source": [
    "classes = vgg_model.predict(images_test)\n"
   ]
  },
  {
   "cell_type": "code",
   "execution_count": 15,
   "metadata": {},
   "outputs": [
    {
     "name": "stdout",
     "output_type": "stream",
     "text": [
      "[2.5244751e-20 3.3670764e-16 2.2033633e-14 1.2054305e-08 6.4432865e-04\n",
      " 2.3101930e-01 6.8425131e-01 8.4085040e-02] 5 6\n"
     ]
    }
   ],
   "source": [
    "i = 999\n",
    "\n",
    "print classes[i], lables_test[i], np.argmax(classes[i])"
   ]
  },
  {
   "cell_type": "code",
   "execution_count": null,
   "metadata": {},
   "outputs": [],
   "source": []
  },
  {
   "cell_type": "code",
   "execution_count": null,
   "metadata": {},
   "outputs": [],
   "source": []
  },
  {
   "cell_type": "code",
   "execution_count": 19,
   "metadata": {},
   "outputs": [
    {
     "name": "stdout",
     "output_type": "stream",
     "text": [
      "Saved model to disk\n"
     ]
    }
   ],
   "source": [
    "vgg_model.save(\"CNN_inc_VGG6_test.h5\")\n",
    "print(\"Saved model to disk\")"
   ]
  },
  {
   "cell_type": "code",
   "execution_count": null,
   "metadata": {},
   "outputs": [],
   "source": []
  }
 ],
 "metadata": {
  "kernelspec": {
   "display_name": "Python 2",
   "language": "python",
   "name": "python2"
  },
  "language_info": {
   "codemirror_mode": {
    "name": "ipython",
    "version": 2
   },
   "file_extension": ".py",
   "mimetype": "text/x-python",
   "name": "python",
   "nbconvert_exporter": "python",
   "pygments_lexer": "ipython2",
   "version": "2.7.15"
  }
 },
 "nbformat": 4,
 "nbformat_minor": 2
}
