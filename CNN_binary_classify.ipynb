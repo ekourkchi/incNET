{
  "nbformat": 4,
  "nbformat_minor": 0,
  "metadata": {
    "colab": {
      "name": "CNN_binary_classify.ipynb",
      "provenance": [],
      "machine_shape": "hm",
      "mount_file_id": "1i5LnnBEr_GyRzO9WM3lxA9QfligqCiQf",
      "authorship_tag": "ABX9TyPG4dTYJ7mbEAyW7DcKROYZ",
      "include_colab_link": true
    },
    "kernelspec": {
      "name": "python2",
      "display_name": "Python 2"
    },
    "accelerator": "GPU"
  },
  "cells": [
    {
      "cell_type": "markdown",
      "metadata": {
        "id": "view-in-github",
        "colab_type": "text"
      },
      "source": [
        "<a href=\"https://colab.research.google.com/github/ekourkchi/incNET-data/blob/master/CNN_binary_classify.ipynb\" target=\"_parent\"><img src=\"https://colab.research.google.com/assets/colab-badge.svg\" alt=\"Open In Colab\"/></a>"
      ]
    },
    {
      "cell_type": "code",
      "metadata": {
        "id": "RBFam7IxaOWV",
        "colab_type": "code",
        "colab": {}
      },
      "source": [
        "import sys\n",
        "import os\n",
        "import subprocess\n",
        "from math import *\n",
        "import numpy as np\n",
        "from datetime import *\n",
        "from pylab import *\n",
        "import matplotlib as mpl\n",
        "from matplotlib.widgets import Slider, Button, RadioButtons\n",
        "import matplotlib.pyplot as plt\n",
        "from astropy.table import Table, Column \n",
        "from mpl_toolkits.axes_grid1 import make_axes_locatable\n",
        "import matplotlib.patches as patches\n",
        "import scipy.misc as scimisc\n",
        "import random\n",
        "\n",
        "# from google.colab import drive\n",
        "# drive.mount('/content/drive')"
      ],
      "execution_count": 1,
      "outputs": []
    },
    {
      "cell_type": "markdown",
      "metadata": {
        "id": "18uvn0AHZg6b",
        "colab_type": "text"
      },
      "source": [
        "## Imprting the data\n",
        "Array of images"
      ]
    },
    {
      "cell_type": "code",
      "metadata": {
        "id": "s0jKF4GqaUHA",
        "colab_type": "code",
        "colab": {}
      },
      "source": [
        "data = np.load('/content/drive/My Drive/data_64x64.npz')\n",
        "images_ = data['images']\n",
        "labels_ = data['labels'] \n",
        "data.close() "
      ],
      "execution_count": 2,
      "outputs": []
    },
    {
      "cell_type": "code",
      "metadata": {
        "id": "XujeD8QDaVo8",
        "colab_type": "code",
        "colab": {
          "base_uri": "https://localhost:8080/",
          "height": 302
        },
        "outputId": "7b5c3c6d-b1ba-46a2-b1b9-a81653202f25"
      },
      "source": [
        "i = 500\n",
        "print labels_[1][i]\n",
        "plt.imshow(images_[i])"
      ],
      "execution_count": 3,
      "outputs": [
        {
          "output_type": "stream",
          "text": [
            "1\n"
          ],
          "name": "stdout"
        },
        {
          "output_type": "execute_result",
          "data": {
            "text/plain": [
              "<matplotlib.image.AxesImage at 0x7f8aed5f0990>"
            ]
          },
          "metadata": {
            "tags": []
          },
          "execution_count": 3
        },
        {
          "output_type": "display_data",
          "data": {
            "image/png": "[encoded data removed]",
            "text/plain": [
              "<Figure size 432x288 with 1 Axes>"
            ]
          },
          "metadata": {
            "tags": [],
            "needs_background": "light"
          }
        }
      ]
    },
    {
      "cell_type": "code",
      "metadata": {
        "id": "GrMkGIIEfyWE",
        "colab_type": "code",
        "colab": {
          "base_uri": "https://localhost:8080/",
          "height": 336
        },
        "outputId": "2b0f1b28-f265-4ccf-80d0-860abb220d72"
      },
      "source": [
        "plt.hist(labels_[1][labels_[1]>45])"
      ],
      "execution_count": 4,
      "outputs": [
        {
          "output_type": "execute_result",
          "data": {
            "text/plain": [
              "(array([1144., 3220., 3148., 2744., 2968., 5188., 4804., 6784., 4940.,\n",
              "        9228.]),\n",
              " array([46. , 50.4, 54.8, 59.2, 63.6, 68. , 72.4, 76.8, 81.2, 85.6, 90. ]),\n",
              " <a list of 10 Patch objects>)"
            ]
          },
          "metadata": {
            "tags": []
          },
          "execution_count": 4
        },
        {
          "output_type": "display_data",
          "data": {
            "image/png": "[encoded data removed]",
            "text/plain": [
              "<Figure size 432x288 with 1 Axes>"
            ]
          },
          "metadata": {
            "tags": [],
            "needs_background": "light"
          }
        }
      ]
    },
    {
      "cell_type": "code",
      "metadata": {
        "id": "11HuUMl6f471",
        "colab_type": "code",
        "colab": {
          "base_uri": "https://localhost:8080/",
          "height": 336
        },
        "outputId": "bc480d38-c540-4bfa-ba5d-90d7cca20082"
      },
      "source": [
        "plt.hist(labels_[1][labels_[1]<10])"
      ],
      "execution_count": 5,
      "outputs": [
        {
          "output_type": "execute_result",
          "data": {
            "text/plain": [
              "(array([8832.,    0.,    0.,    0.,    0.,    0.,    0.,    0.,    0.,\n",
              "        7416.]),\n",
              " array([0. , 0.1, 0.2, 0.3, 0.4, 0.5, 0.6, 0.7, 0.8, 0.9, 1. ]),\n",
              " <a list of 10 Patch objects>)"
            ]
          },
          "metadata": {
            "tags": []
          },
          "execution_count": 5
        },
        {
          "output_type": "display_data",
          "data": {
            "image/png": "[encoded data removed]",
            "text/plain": [
              "<Figure size 432x288 with 1 Axes>"
            ]
          },
          "metadata": {
            "tags": [],
            "needs_background": "light"
          }
        }
      ]
    },
    {
      "cell_type": "code",
      "metadata": {
        "id": "8b55PBnYfQTo",
        "colab_type": "code",
        "colab": {
          "base_uri": "https://localhost:8080/",
          "height": 50
        },
        "outputId": "fd2e9f91-61ef-45e9-af71-a67ebefda863"
      },
      "source": [
        "print images_.shape\n",
        "ix, = np.where(labels_[1]<10)  # face-on (0) or rejected (1)\n",
        "\n",
        "images_c = images_[ix]\n",
        "labels_c = labels_[1][ix]\n",
        "pgcIDs_c = labels_[0][ix]\n",
        "\n",
        "print images_c.shape"
      ],
      "execution_count": 6,
      "outputs": [
        {
          "output_type": "stream",
          "text": [
            "(60468, 64, 64, 3)\n",
            "(16248, 64, 64, 3)\n"
          ],
          "name": "stdout"
        }
      ]
    },
    {
      "cell_type": "code",
      "metadata": {
        "id": "b-eoqKykhTs7",
        "colab_type": "code",
        "colab": {}
      },
      "source": [
        "def esn_shuffle(array, seed=0):\n",
        "        random.seed(seed)\n",
        "        random.shuffle(array)\n",
        "        return array"
      ],
      "execution_count": 7,
      "outputs": []
    },
    {
      "cell_type": "code",
      "metadata": {
        "id": "T9Ff1tm9gjWh",
        "colab_type": "code",
        "colab": {}
      },
      "source": [
        "n = len(labels_c)\n",
        "\n",
        "indices = np.arange(n)\n",
        "indices = esn_shuffle(indices, seed=2)\n",
        "\n",
        "\n",
        "images_cc = images_c[indices]\n",
        "labels_cc = labels_c[indices]\n",
        "pgcIDs_cc = pgcIDs_c[indices]\n",
        "\n",
        "#################\n",
        "\n",
        "indices = np.arange(600)\n",
        "images_test  = images_cc[indices]\n",
        "labels_test  = labels_cc[indices]\n",
        "pgcIDs_test  = pgcIDs_cc[indices]\n",
        "\n",
        "################# \n",
        "\n",
        "indices = np.arange(600, n)\n",
        "images_train = images_cc[indices]\n",
        "labels_train = labels_cc[indices]\n",
        "pgcIDs_train = pgcIDs_cc[indices]\n",
        "\n",
        "\n",
        "ibx = np.logical_not(np.isin(pgcIDs_train, pgcIDs_test))\n",
        "images_train = images_train[ibx]\n",
        "labels_train = labels_train[ibx]\n",
        "pgcIDs_train = pgcIDs_train[ibx]\n",
        "\n",
        "#################\n",
        "# Taking only unique galxies in the test set\n",
        "# This is the brute-force approach.\n",
        "# I need to make this better in the future\n",
        "\n",
        "unique_IDs = []\n",
        "unique_inx = []\n",
        "\n",
        "for i, id in enumerate(pgcIDs_test):\n",
        "    if not id in unique_IDs:\n",
        "        unique_IDs.append(id)\n",
        "        unique_inx.append(i)\n",
        "        \n",
        "        \n",
        "images_test  = images_test[unique_inx]\n",
        "labels_test  = labels_test[unique_inx]\n",
        "pgcIDs_test  = pgcIDs_test[unique_inx]\n",
        "\n",
        "images_cvl  = images_test[:300]\n",
        "labels_cvl  = labels_test[:300]\n",
        "pgcIDs_cvl  = pgcIDs_test[:300]\n",
        "\n",
        "images_test  = images_test[300:]\n",
        "labels_test  = labels_test[300:]\n",
        "pgcIDs_test  = pgcIDs_test[300:]\n",
        "\n",
        "#############################################\n",
        "\n",
        "labels_cvl[labels_cvl<10]   = 0\n",
        "labels_test[labels_test<10]   = 0\n",
        "labels_train[labels_train<10]   = 0"
      ],
      "execution_count": 8,
      "outputs": []
    },
    {
      "cell_type": "code",
      "metadata": {
        "id": "Nu6GkSMQiA4j",
        "colab_type": "code",
        "colab": {
          "base_uri": "https://localhost:8080/",
          "height": 50
        },
        "outputId": "0392b913-42ab-4e92-a80f-68bc63cad261"
      },
      "source": [
        "print images_.shape\n",
        "ix, = np.where(labels_[1]>45)  # all labels\n",
        "\n",
        "images_c = images_[ix]\n",
        "labels_c = labels_[1][ix]\n",
        "pgcIDs_c = labels_[0][ix]\n",
        "\n",
        "print images_c.shape"
      ],
      "execution_count": 9,
      "outputs": [
        {
          "output_type": "stream",
          "text": [
            "(60468, 64, 64, 3)\n",
            "(44168, 64, 64, 3)\n"
          ],
          "name": "stdout"
        }
      ]
    },
    {
      "cell_type": "code",
      "metadata": {
        "id": "St4Pliqem48r",
        "colab_type": "code",
        "colab": {}
      },
      "source": [
        "n = len(labels_c)\n",
        "\n",
        "indices = np.arange(n)\n",
        "indices = esn_shuffle(indices, seed=3)\n",
        "\n",
        "\n",
        "images_cc = images_c[indices][:16248]\n",
        "labels_cc = labels_c[indices][:16248]\n",
        "pgcIDs_cc = pgcIDs_c[indices][:16248]\n",
        "\n",
        "n = len(labels_cc)\n",
        "\n",
        "#################\n",
        "\n",
        "indices = np.arange(600)\n",
        "images_test1  = images_cc[indices]\n",
        "labels_test1  = labels_cc[indices]\n",
        "pgcIDs_test1  = pgcIDs_cc[indices]\n",
        "\n",
        "################# \n",
        "\n",
        "indices = np.arange(600, n)\n",
        "images_train1 = images_cc[indices]\n",
        "labels_train1 = labels_cc[indices]\n",
        "pgcIDs_train1 = pgcIDs_cc[indices]\n",
        "\n",
        "\n",
        "ibx = np.logical_not(np.isin(pgcIDs_train1, pgcIDs_test1))\n",
        "images_train1 = images_train1[ibx]\n",
        "labels_train1 = labels_train1[ibx]\n",
        "pgcIDs_train1 = pgcIDs_train1[ibx]\n",
        "\n",
        "#################\n",
        "# Taking only unique galxies in the test set\n",
        "# This is the brute-force approach.\n",
        "# I need to make this better in the future\n",
        "\n",
        "unique_IDs = []\n",
        "unique_inx = []\n",
        "\n",
        "for i, id in enumerate(pgcIDs_test1):\n",
        "    if not id in unique_IDs:\n",
        "        unique_IDs.append(id)\n",
        "        unique_inx.append(i)\n",
        "        \n",
        "        \n",
        "images_test1  = images_test1[unique_inx]\n",
        "labels_test1  = labels_test1[unique_inx]\n",
        "pgcIDs_test1  = pgcIDs_test1[unique_inx]\n",
        "\n",
        "images_cvl1  = images_test1[:300]\n",
        "labels_cvl1  = labels_test1[:300]\n",
        "pgcIDs_cvl1  = pgcIDs_test1[:300]\n",
        "\n",
        "images_test1  = images_test1[300:]\n",
        "labels_test1  = labels_test1[300:]\n",
        "pgcIDs_test1  = pgcIDs_test1[300:]\n",
        "\n",
        "#############################################\n",
        "\n",
        "labels_cvl1[labels_cvl1>10]   = 1\n",
        "labels_test1[labels_test1>10]   = 1\n",
        "labels_train1[labels_train1>10]   = 1"
      ],
      "execution_count": 10,
      "outputs": []
    },
    {
      "cell_type": "code",
      "metadata": {
        "id": "srza1hWQz2v_",
        "colab_type": "code",
        "colab": {
          "base_uri": "https://localhost:8080/",
          "height": 286
        },
        "outputId": "d4930160-f02b-4155-9638-4836d32c10ad"
      },
      "source": [
        "i = 800\n",
        "\n",
        "plt.imshow(images_train1[i])\n",
        "print \"Accepted?\", labels_train1[i]"
      ],
      "execution_count": 11,
      "outputs": [
        {
          "output_type": "stream",
          "text": [
            "Accepted? 1\n"
          ],
          "name": "stdout"
        },
        {
          "output_type": "display_data",
          "data": {
            "image/png": "[encoded data removed]",
            "text/plain": [
              "<Figure size 432x288 with 1 Axes>"
            ]
          },
          "metadata": {
            "tags": [],
            "needs_background": "light"
          }
        }
      ]
    },
    {
      "cell_type": "code",
      "metadata": {
        "id": "scf444Zhm5Hm",
        "colab_type": "code",
        "colab": {}
      },
      "source": [
        "images_cvl = np.concatenate((images_cvl, images_cvl1))\n",
        "labels_cvl = np.concatenate((labels_cvl, labels_cvl1))\n",
        "pgcIDs_cvl = np.concatenate((pgcIDs_cvl, pgcIDs_cvl1))\n",
        "\n",
        "images_test = np.concatenate((images_test, images_test1))\n",
        "labels_test = np.concatenate((labels_test, labels_test1))\n",
        "pgcIDs_test = np.concatenate((pgcIDs_test, pgcIDs_test1))\n",
        "\n",
        "images_train = np.concatenate((images_train, images_train1))\n",
        "labels_train = np.concatenate((labels_train, labels_train1))\n",
        "pgcIDs_train = np.concatenate((pgcIDs_train, pgcIDs_train1))\n"
      ],
      "execution_count": 12,
      "outputs": []
    },
    {
      "cell_type": "code",
      "metadata": {
        "id": "jrEZldHYm5FB",
        "colab_type": "code",
        "colab": {
          "base_uri": "https://localhost:8080/",
          "height": 67
        },
        "outputId": "f94bfec7-ea8d-4437-d31a-7e001e2b062d"
      },
      "source": [
        "print images_cvl.shape, labels_cvl.shape\n",
        "print images_test.shape, labels_test.shape\n",
        "print images_train.shape, labels_train.shape\n"
      ],
      "execution_count": 13,
      "outputs": [
        {
          "output_type": "stream",
          "text": [
            "(600, 64, 64, 3) (600,)\n",
            "(549, 64, 64, 3) (549,)\n",
            "(29011, 64, 64, 3) (29011,)\n"
          ],
          "name": "stdout"
        }
      ]
    },
    {
      "cell_type": "code",
      "metadata": {
        "id": "4h08QLBMpwLJ",
        "colab_type": "code",
        "colab": {
          "base_uri": "https://localhost:8080/",
          "height": 50
        },
        "outputId": "10782839-fafa-4405-93ba-4fc5c72883dd"
      },
      "source": [
        "print len(labels_train[labels_train==0])\n",
        "print len(labels_train[labels_train==1])\n"
      ],
      "execution_count": 14,
      "outputs": [
        {
          "output_type": "stream",
          "text": [
            "13980\n",
            "15031\n"
          ],
          "name": "stdout"
        }
      ]
    },
    {
      "cell_type": "code",
      "metadata": {
        "id": "IJt6SBezwg8i",
        "colab_type": "code",
        "colab": {
          "base_uri": "https://localhost:8080/",
          "height": 286
        },
        "outputId": "efbb362b-efdb-45c2-a18f-a1e62afe231b"
      },
      "source": [
        "i = 6500\n",
        "\n",
        "plt.imshow(images_train[i])\n",
        "print labels_train[i]"
      ],
      "execution_count": 15,
      "outputs": [
        {
          "output_type": "stream",
          "text": [
            "0\n"
          ],
          "name": "stdout"
        },
        {
          "output_type": "display_data",
          "data": {
            "image/png": "[encoded data removed]",
            "text/plain": [
              "<Figure size 432x288 with 1 Axes>"
            ]
          },
          "metadata": {
            "tags": [],
            "needs_background": "light"
          }
        }
      ]
    },
    {
      "cell_type": "code",
      "metadata": {
        "id": "4E0Lv0eJlGvb",
        "colab_type": "code",
        "colab": {}
      },
      "source": [
        "np.random.seed(400)\n",
        "\n",
        "import tensorflow as tf\n",
        "from tensorflow.keras.models import Sequential\n",
        "from tensorflow.keras.layers import Dense, Conv2D, Flatten\n",
        "from tensorflow.keras.utils import to_categorical\n",
        "import matplotlib.pyplot as plt\n",
        "\n",
        "import numpy as np\n",
        "def vgg6(input_shape=(64, 64, 3), n_classes=2):\n",
        "    \"\"\"\n",
        "        VGG6\n",
        "    :param input_shape:\n",
        "    :param n_classes:\n",
        "    :return:\n",
        "    \"\"\"\n",
        "\n",
        "    model = tf.keras.models.Sequential(name='VGG6')\n",
        "    # input: 64x64 images with 3 channel -> (64, 64, 3) tensors.\n",
        "    # this applies 16 convolution filters of size 3x3 each.\n",
        "    model.add(tf.keras.layers.Conv2D(16, (3, 3), activation='relu', input_shape=input_shape, name='conv1'))\n",
        "    model.add(tf.keras.layers.Conv2D(16, (3, 3), activation='relu', name='conv2'))\n",
        "    model.add(tf.keras.layers.BatchNormalization(axis = 3, name = 'bn_1'))\n",
        "    model.add(tf.keras.layers.MaxPooling2D(pool_size=(2, 2)))\n",
        "    model.add(tf.keras.layers.Dropout(0.20))\n",
        "\n",
        "    model.add(tf.keras.layers.Conv2D(32, (3, 3), activation='relu', name='conv3'))\n",
        "    model.add(tf.keras.layers.Conv2D(32, (3, 3), activation='relu', name='conv4'))\n",
        "    model.add(tf.keras.layers.BatchNormalization(axis = 3, name = 'bn_2'))\n",
        "    model.add(tf.keras.layers.MaxPooling2D(pool_size=(2, 2)))\n",
        "    model.add(tf.keras.layers.Dropout(0.20))\n",
        "\n",
        "    model.add(tf.keras.layers.Conv2D(64, (3, 3), activation='relu', name='conv5'))\n",
        "    model.add(tf.keras.layers.Conv2D(64, (3, 3), activation='relu', name='conv6'))\n",
        "    model.add(tf.keras.layers.BatchNormalization(axis = 3, name = 'bn_3'))\n",
        "    model.add(tf.keras.layers.MaxPooling2D(pool_size=(2, 2)))\n",
        "    model.add(tf.keras.layers.Dropout(0.20))\n",
        "\n",
        "\n",
        "    model.add(tf.keras.layers.Flatten())\n",
        "\n",
        "    model.add(tf.keras.layers.Dense(256, activation='relu', name='fc_1'))\n",
        "    model.add(tf.keras.layers.Dropout(0.20))\n",
        "    \n",
        "    model.add(tf.keras.layers.Dense(128, activation='relu', name='fc_2'))\n",
        "    model.add(tf.keras.layers.Dropout(0.20))\n",
        "\n",
        "    # model.add(tf.keras.layers.Dense(64, activation='relu', name='fc_3'))\n",
        "    # model.add(tf.keras.layers.Dropout(0.20))\n",
        "\n",
        "    # model.add(tf.keras.layers.Dense(32, activation='relu', name='fc_4'))\n",
        "    # model.add(tf.keras.layers.Dropout(0.20))\n",
        "\n",
        "\n",
        "    # output layer\n",
        "    activation = 'sigmoid' if n_classes == 1 else 'softmax'\n",
        "    model.add(tf.keras.layers.Dense(n_classes, activation=activation, name='fc_out'))\n",
        "\n",
        "    return model"
      ],
      "execution_count": 16,
      "outputs": []
    },
    {
      "cell_type": "code",
      "metadata": {
        "id": "hN6awl3UkCwU",
        "colab_type": "code",
        "colab": {
          "base_uri": "https://localhost:8080/",
          "height": 1000
        },
        "outputId": "1ae9d417-860b-4916-d7b8-278825cc81c8"
      },
      "source": [
        "vgg_model = vgg6()\n",
        "vgg_model.compile(loss='sparse_categorical_crossentropy', optimizer='adam', metrics=['accuracy'])\n",
        "n_epochs=30\n",
        "\n",
        "vgg_model.summary()\n",
        "vgg_model_history = vgg_model.fit(images_train, labels_train, \n",
        "                                  epochs=n_epochs, batch_size=512, verbose=2, \n",
        "                                  validation_data=(images_test, labels_test),\n",
        "                                  shuffle=True)\n"
      ],
      "execution_count": 29,
      "outputs": [
        {
          "output_type": "stream",
          "text": [
            "Model: \"VGG6\"\n",
            "_________________________________________________________________\n",
            "Layer (type)                 Output Shape              Param #   \n",
            "=================================================================\n",
            "conv1 (Conv2D)               (None, 62, 62, 16)        448       \n",
            "_________________________________________________________________\n",
            "conv2 (Conv2D)               (None, 60, 60, 16)        2320      \n",
            "_________________________________________________________________\n",
            "bn_1 (BatchNormalization)    (None, 60, 60, 16)        64        \n",
            "_________________________________________________________________\n",
            "max_pooling2d_3 (MaxPooling2 (None, 30, 30, 16)        0         \n",
            "_________________________________________________________________\n",
            "dropout_5 (Dropout)          (None, 30, 30, 16)        0         \n",
            "_________________________________________________________________\n",
            "conv3 (Conv2D)               (None, 28, 28, 32)        4640      \n",
            "_________________________________________________________________\n",
            "conv4 (Conv2D)               (None, 26, 26, 32)        9248      \n",
            "_________________________________________________________________\n",
            "bn_2 (BatchNormalization)    (None, 26, 26, 32)        128       \n",
            "_________________________________________________________________\n",
            "max_pooling2d_4 (MaxPooling2 (None, 13, 13, 32)        0         \n",
            "_________________________________________________________________\n",
            "dropout_6 (Dropout)          (None, 13, 13, 32)        0         \n",
            "_________________________________________________________________\n",
            "conv5 (Conv2D)               (None, 11, 11, 64)        18496     \n",
            "_________________________________________________________________\n",
            "conv6 (Conv2D)               (None, 9, 9, 64)          36928     \n",
            "_________________________________________________________________\n",
            "bn_3 (BatchNormalization)    (None, 9, 9, 64)          256       \n",
            "_________________________________________________________________\n",
            "max_pooling2d_5 (MaxPooling2 (None, 4, 4, 64)          0         \n",
            "_________________________________________________________________\n",
            "dropout_7 (Dropout)          (None, 4, 4, 64)          0         \n",
            "_________________________________________________________________\n",
            "flatten_1 (Flatten)          (None, 1024)              0         \n",
            "_________________________________________________________________\n",
            "fc_1 (Dense)                 (None, 256)               262400    \n",
            "_________________________________________________________________\n",
            "dropout_8 (Dropout)          (None, 256)               0         \n",
            "_________________________________________________________________\n",
            "fc_2 (Dense)                 (None, 128)               32896     \n",
            "_________________________________________________________________\n",
            "dropout_9 (Dropout)          (None, 128)               0         \n",
            "_________________________________________________________________\n",
            "fc_out (Dense)               (None, 2)                 258       \n",
            "=================================================================\n",
            "Total params: 368,082\n",
            "Trainable params: 367,858\n",
            "Non-trainable params: 224\n",
            "_________________________________________________________________\n",
            "Train on 29011 samples, validate on 549 samples\n",
            "Epoch 1/30\n",
            "29011/29011 - 4s - loss: 0.4834 - accuracy: 0.8047 - val_loss: 0.5282 - val_accuracy: 0.7049\n",
            "Epoch 2/30\n",
            "29011/29011 - 3s - loss: 0.2851 - accuracy: 0.8861 - val_loss: 0.3204 - val_accuracy: 0.8980\n",
            "Epoch 3/30\n",
            "29011/29011 - 3s - loss: 0.2634 - accuracy: 0.8977 - val_loss: 0.2986 - val_accuracy: 0.8962\n",
            "Epoch 4/30\n",
            "29011/29011 - 3s - loss: 0.2509 - accuracy: 0.9016 - val_loss: 0.2339 - val_accuracy: 0.9126\n",
            "Epoch 5/30\n",
            "29011/29011 - 3s - loss: 0.2398 - accuracy: 0.9046 - val_loss: 0.2247 - val_accuracy: 0.9199\n",
            "Epoch 6/30\n",
            "29011/29011 - 3s - loss: 0.2352 - accuracy: 0.9076 - val_loss: 0.2294 - val_accuracy: 0.9089\n",
            "Epoch 7/30\n",
            "29011/29011 - 3s - loss: 0.2333 - accuracy: 0.9061 - val_loss: 0.2092 - val_accuracy: 0.9089\n",
            "Epoch 8/30\n",
            "29011/29011 - 3s - loss: 0.2264 - accuracy: 0.9094 - val_loss: 0.2773 - val_accuracy: 0.8907\n",
            "Epoch 9/30\n",
            "29011/29011 - 3s - loss: 0.2217 - accuracy: 0.9108 - val_loss: 0.2250 - val_accuracy: 0.9016\n",
            "Epoch 10/30\n",
            "29011/29011 - 3s - loss: 0.2207 - accuracy: 0.9114 - val_loss: 0.2018 - val_accuracy: 0.9089\n",
            "Epoch 11/30\n",
            "29011/29011 - 3s - loss: 0.2196 - accuracy: 0.9130 - val_loss: 0.2362 - val_accuracy: 0.8980\n",
            "Epoch 12/30\n",
            "29011/29011 - 3s - loss: 0.2124 - accuracy: 0.9159 - val_loss: 0.2029 - val_accuracy: 0.9162\n",
            "Epoch 13/30\n",
            "29011/29011 - 3s - loss: 0.2087 - accuracy: 0.9159 - val_loss: 0.2078 - val_accuracy: 0.9199\n",
            "Epoch 14/30\n",
            "29011/29011 - 3s - loss: 0.2046 - accuracy: 0.9176 - val_loss: 0.2860 - val_accuracy: 0.8725\n",
            "Epoch 15/30\n",
            "29011/29011 - 3s - loss: 0.2028 - accuracy: 0.9193 - val_loss: 0.2213 - val_accuracy: 0.9071\n",
            "Epoch 16/30\n",
            "29011/29011 - 3s - loss: 0.2016 - accuracy: 0.9182 - val_loss: 0.2120 - val_accuracy: 0.9217\n",
            "Epoch 17/30\n",
            "29011/29011 - 3s - loss: 0.1998 - accuracy: 0.9184 - val_loss: 0.2023 - val_accuracy: 0.9162\n",
            "Epoch 18/30\n",
            "29011/29011 - 3s - loss: 0.1944 - accuracy: 0.9219 - val_loss: 0.2077 - val_accuracy: 0.9235\n",
            "Epoch 19/30\n",
            "29011/29011 - 3s - loss: 0.1908 - accuracy: 0.9241 - val_loss: 0.1978 - val_accuracy: 0.9162\n",
            "Epoch 20/30\n",
            "29011/29011 - 3s - loss: 0.1912 - accuracy: 0.9225 - val_loss: 0.1980 - val_accuracy: 0.9253\n",
            "Epoch 21/30\n",
            "29011/29011 - 3s - loss: 0.1853 - accuracy: 0.9239 - val_loss: 0.2033 - val_accuracy: 0.9126\n",
            "Epoch 22/30\n",
            "29011/29011 - 3s - loss: 0.1835 - accuracy: 0.9260 - val_loss: 0.2073 - val_accuracy: 0.9107\n",
            "Epoch 23/30\n",
            "29011/29011 - 3s - loss: 0.1820 - accuracy: 0.9254 - val_loss: 0.2065 - val_accuracy: 0.9180\n",
            "Epoch 24/30\n",
            "29011/29011 - 3s - loss: 0.1769 - accuracy: 0.9275 - val_loss: 0.2130 - val_accuracy: 0.9107\n",
            "Epoch 25/30\n",
            "29011/29011 - 3s - loss: 0.1767 - accuracy: 0.9266 - val_loss: 0.2020 - val_accuracy: 0.9180\n",
            "Epoch 26/30\n",
            "29011/29011 - 3s - loss: 0.1744 - accuracy: 0.9295 - val_loss: 0.1912 - val_accuracy: 0.9217\n",
            "Epoch 27/30\n",
            "29011/29011 - 3s - loss: 0.1690 - accuracy: 0.9301 - val_loss: 0.2141 - val_accuracy: 0.9144\n",
            "Epoch 28/30\n",
            "29011/29011 - 3s - loss: 0.1646 - accuracy: 0.9317 - val_loss: 0.2467 - val_accuracy: 0.9016\n",
            "Epoch 29/30\n",
            "29011/29011 - 3s - loss: 0.1626 - accuracy: 0.9332 - val_loss: 0.1934 - val_accuracy: 0.9217\n",
            "Epoch 30/30\n",
            "29011/29011 - 3s - loss: 0.1599 - accuracy: 0.9347 - val_loss: 0.2000 - val_accuracy: 0.9126\n"
          ],
          "name": "stdout"
        }
      ]
    },
    {
      "cell_type": "code",
      "metadata": {
        "id": "ktTn8mK_Q5MB",
        "colab_type": "code",
        "colab": {
          "base_uri": "https://localhost:8080/",
          "height": 350
        },
        "outputId": "2dd4799e-2bb3-4835-99db-ae9c0b5767a9"
      },
      "source": [
        "def plot_model_history(history):\n",
        "    '''Plot the training and validation history for a TensorFlow network'''\n",
        "\n",
        "    # Extract loss and accuracy\n",
        "    loss = history.history['loss']\n",
        "    val_loss = history.history['val_loss']\n",
        "    acc = history.history['accuracy']\n",
        "    val_acc = history.history['val_accuracy']\n",
        "    \n",
        "    fig, ax = plt.subplots(nrows=1,ncols=2, figsize=(10,5))\n",
        "    ax[0].plot(np.arange(n_epochs), loss, label='Training Loss')\n",
        "    ax[0].plot(np.arange(n_epochs), val_loss, label='Validation Loss')\n",
        "    ax[0].set_title('Loss Curves')\n",
        "    ax[0].legend()\n",
        "    ax[0].set_xlabel('Epoch')\n",
        "    ax[0].set_ylabel('Loss')\n",
        "\n",
        "    ax[1].plot(np.arange(n_epochs), acc, label='Training Accuracy')\n",
        "    ax[1].plot(np.arange(n_epochs), val_acc, label='Validation Accuracy')\n",
        "    ax[1].set_title('Accuracy Curves')\n",
        "    ax[1].legend()\n",
        "    ax[1].set_xlabel('Epoch')\n",
        "    ax[1].set_ylabel('Accuracy')\n",
        "    \n",
        "# plot the training history\n",
        "# print vgg_model.history.history['loss']\n",
        "\n",
        "plot_model_history(vgg_model.history)\n",
        "  "
      ],
      "execution_count": 30,
      "outputs": [
        {
          "output_type": "display_data",
          "data": {
            "image/png": "[encoded data removed]",
            "text/plain": [
              "<Figure size 720x360 with 2 Axes>"
            ]
          },
          "metadata": {
            "tags": [],
            "needs_background": "light"
          }
        }
      ]
    },
    {
      "cell_type": "code",
      "metadata": {
        "id": "eZmGZyaVkHHS",
        "colab_type": "code",
        "colab": {}
      },
      "source": [
        "flag_p = vgg_model.predict(images_train)\n",
        "flag_m = labels_train"
      ],
      "execution_count": null,
      "outputs": []
    },
    {
      "cell_type": "code",
      "metadata": {
        "id": "JMR5KT7j1SyB",
        "colab_type": "code",
        "colab": {}
      },
      "source": [
        "i = 0 \n",
        "for ix, pgc in enumerate(pgcIDs_train):\n",
        "  if pgc==218:\n",
        "    i = ix\n",
        "    break\n",
        "\n",
        "\n",
        "# i=231\n",
        "print i\n",
        "\n",
        "plt.imshow(images_train[i])\n",
        "print \"PGC ID: \", pgcIDs_train[i]\n",
        "print \"Accepeted by human user?: \", flag_m[i]\n",
        "print \"Accpeted by this code? : \", np.argmax(flag_p[i] )\n",
        "print \"Probability of rejection: \", '%d'%(flag_p[i][0]*100)+'%'\n"
      ],
      "execution_count": null,
      "outputs": []
    },
    {
      "cell_type": "code",
      "metadata": {
        "id": "m6n4yIb21hAr",
        "colab_type": "code",
        "colab": {}
      },
      "source": [
        "vgg_model.save(\"/content/drive/My Drive/CNN_inc_VGG6_binary.h5\")\n",
        "print(\"Saved model to disk\")"
      ],
      "execution_count": null,
      "outputs": []
    },
    {
      "cell_type": "code",
      "metadata": {
        "id": "Rv3XL-GckoQ2",
        "colab_type": "code",
        "colab": {}
      },
      "source": [
        ""
      ],
      "execution_count": null,
      "outputs": []
    }
  ]
}