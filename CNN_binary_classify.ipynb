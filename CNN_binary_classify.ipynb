{
  "nbformat": 4,
  "nbformat_minor": 0,
  "metadata": {
    "colab": {
      "name": "CNN_binary_classify.ipynb",
      "provenance": [],
      "machine_shape": "hm",
      "mount_file_id": "1i5LnnBEr_GyRzO9WM3lxA9QfligqCiQf",
      "authorship_tag": "ABX9TyN7RCUdFve6Syo4/uYfiEqO",
      "include_colab_link": true
    },
    "kernelspec": {
      "name": "python2",
      "display_name": "Python 2"
    },
    "accelerator": "GPU"
  },
  "cells": [
    {
      "cell_type": "markdown",
      "metadata": {
        "id": "view-in-github",
        "colab_type": "text"
      },
      "source": [
        "<a href=\"https://colab.research.google.com/github/ekourkchi/incNET/blob/master/CNN_binary_classify.ipynb\" target=\"_parent\"><img src=\"https://colab.research.google.com/assets/colab-badge.svg\" alt=\"Open In Colab\"/></a>"
      ]
    },
    {
      "cell_type": "code",
      "metadata": {
        "id": "RBFam7IxaOWV",
        "colab_type": "code",
        "colab": {}
      },
      "source": [
        "import sys\n",
        "import os\n",
        "import subprocess\n",
        "from math import *\n",
        "import numpy as np\n",
        "from datetime import *\n",
        "from pylab import *\n",
        "import matplotlib as mpl\n",
        "from matplotlib.widgets import Slider, Button, RadioButtons\n",
        "import matplotlib.pyplot as plt\n",
        "from astropy.table import Table, Column \n",
        "from mpl_toolkits.axes_grid1 import make_axes_locatable\n",
        "import matplotlib.patches as patches\n",
        "import scipy.misc as scimisc\n",
        "import random\n",
        "\n",
        "# from google.colab import drive\n",
        "# drive.mount('/content/drive')"
      ],
      "execution_count": 0,
      "outputs": []
    },
    {
      "cell_type": "markdown",
      "metadata": {
        "id": "18uvn0AHZg6b",
        "colab_type": "text"
      },
      "source": [
        "## Imprting the data\n",
        "Array of images"
      ]
    },
    {
      "cell_type": "code",
      "metadata": {
        "id": "s0jKF4GqaUHA",
        "colab_type": "code",
        "colab": {}
      },
      "source": [
        "data = np.load('/content/drive/My Drive/data_64x64.npz')\n",
        "images_ = data['images']\n",
        "labels_ = data['labels'] \n",
        "data.close() "
      ],
      "execution_count": 0,
      "outputs": []
    },
    {
      "cell_type": "code",
      "metadata": {
        "id": "XujeD8QDaVo8",
        "colab_type": "code",
        "outputId": "14022d4f-64f9-40b0-b673-5a9cb5d24f14",
        "colab": {
          "base_uri": "https://localhost:8080/",
          "height": 302
        }
      },
      "source": [
        "i = 500\n",
        "print labels_[1][i]\n",
        "plt.imshow(images_[i])"
      ],
      "execution_count": 3,
      "outputs": [
        {
          "output_type": "stream",
          "text": [
            "1\n"
          ],
          "name": "stdout"
        },
        {
          "output_type": "execute_result",
          "data": {
            "text/plain": [
              "<matplotlib.image.AxesImage at 0x7f6de5306ed0>"
            ]
          },
          "metadata": {
            "tags": []
          },
          "execution_count": 3
        },
        {
          "output_type": "display_data",
          "data": {
            "image/png": "[encoded data removed]",
            "text/plain": [
              "<Figure size 432x288 with 1 Axes>"
            ]
          },
          "metadata": {
            "tags": []
          }
        }
      ]
    },
    {
      "cell_type": "code",
      "metadata": {
        "id": "GrMkGIIEfyWE",
        "colab_type": "code",
        "outputId": "530b4ce4-e2ea-41ca-ddc7-4b99f12c7d56",
        "colab": {
          "base_uri": "https://localhost:8080/",
          "height": 336
        }
      },
      "source": [
        "plt.hist(labels_[1][labels_[1]>45])"
      ],
      "execution_count": 4,
      "outputs": [
        {
          "output_type": "execute_result",
          "data": {
            "text/plain": [
              "(array([1144., 3220., 3148., 2744., 2968., 5188., 4804., 6784., 4940.,\n",
              "        9228.]),\n",
              " array([46. , 50.4, 54.8, 59.2, 63.6, 68. , 72.4, 76.8, 81.2, 85.6, 90. ]),\n",
              " <a list of 10 Patch objects>)"
            ]
          },
          "metadata": {
            "tags": []
          },
          "execution_count": 4
        },
        {
          "output_type": "display_data",
          "data": {
            "image/png": "[encoded data removed]",
            "text/plain": [
              "<Figure size 432x288 with 1 Axes>"
            ]
          },
          "metadata": {
            "tags": []
          }
        }
      ]
    },
    {
      "cell_type": "code",
      "metadata": {
        "id": "11HuUMl6f471",
        "colab_type": "code",
        "outputId": "baccc000-4d45-44fc-d8c6-69ad874ceb2b",
        "colab": {
          "base_uri": "https://localhost:8080/",
          "height": 336
        }
      },
      "source": [
        "plt.hist(labels_[1][labels_[1]<10])"
      ],
      "execution_count": 5,
      "outputs": [
        {
          "output_type": "execute_result",
          "data": {
            "text/plain": [
              "(array([8832.,    0.,    0.,    0.,    0.,    0.,    0.,    0.,    0.,\n",
              "        7416.]),\n",
              " array([0. , 0.1, 0.2, 0.3, 0.4, 0.5, 0.6, 0.7, 0.8, 0.9, 1. ]),\n",
              " <a list of 10 Patch objects>)"
            ]
          },
          "metadata": {
            "tags": []
          },
          "execution_count": 5
        },
        {
          "output_type": "display_data",
          "data": {
            "image/png": "[encoded data removed]",
            "text/plain": [
              "<Figure size 432x288 with 1 Axes>"
            ]
          },
          "metadata": {
            "tags": []
          }
        }
      ]
    },
    {
      "cell_type": "code",
      "metadata": {
        "id": "8b55PBnYfQTo",
        "colab_type": "code",
        "outputId": "0c2cfaa2-55e0-4d74-dbe2-51f958c1d9e1",
        "colab": {
          "base_uri": "https://localhost:8080/",
          "height": 50
        }
      },
      "source": [
        "print images_.shape\n",
        "ix, = np.where(labels_[1]<10)  # face-on (0) or rejected (1)\n",
        "\n",
        "images_c = images_[ix]\n",
        "labels_c = labels_[1][ix]\n",
        "pgcIDs_c = labels_[0][ix]\n",
        "\n",
        "print images_c.shape"
      ],
      "execution_count": 6,
      "outputs": [
        {
          "output_type": "stream",
          "text": [
            "(60468, 64, 64, 3)\n",
            "(16248, 64, 64, 3)\n"
          ],
          "name": "stdout"
        }
      ]
    },
    {
      "cell_type": "code",
      "metadata": {
        "id": "b-eoqKykhTs7",
        "colab_type": "code",
        "colab": {}
      },
      "source": [
        "def esn_shuffle(array, seed=0):\n",
        "        random.seed(seed)\n",
        "        random.shuffle(array)\n",
        "        return array"
      ],
      "execution_count": 0,
      "outputs": []
    },
    {
      "cell_type": "code",
      "metadata": {
        "id": "T9Ff1tm9gjWh",
        "colab_type": "code",
        "colab": {}
      },
      "source": [
        "n = len(labels_c)\n",
        "\n",
        "indices = np.arange(n)\n",
        "indices = esn_shuffle(indices, seed=2)\n",
        "\n",
        "\n",
        "images_cc = images_c[indices]\n",
        "labels_cc = labels_c[indices]\n",
        "pgcIDs_cc = pgcIDs_c[indices]\n",
        "\n",
        "#################\n",
        "\n",
        "indices = np.arange(600)\n",
        "images_test  = images_cc[indices]\n",
        "labels_test  = labels_cc[indices]\n",
        "pgcIDs_test  = pgcIDs_cc[indices]\n",
        "\n",
        "################# \n",
        "\n",
        "indices = np.arange(600, n)\n",
        "images_train = images_cc[indices]\n",
        "labels_train = labels_cc[indices]\n",
        "pgcIDs_train = pgcIDs_cc[indices]\n",
        "\n",
        "\n",
        "ibx = np.logical_not(np.isin(pgcIDs_train, pgcIDs_test))\n",
        "images_train = images_train[ibx]\n",
        "labels_train = labels_train[ibx]\n",
        "pgcIDs_train = pgcIDs_train[ibx]\n",
        "\n",
        "#################\n",
        "# Taking only unique galxies in the test set\n",
        "# This is the brute-force approach.\n",
        "# I need to make this better in the future\n",
        "\n",
        "unique_IDs = []\n",
        "unique_inx = []\n",
        "\n",
        "for i, id in enumerate(pgcIDs_test):\n",
        "    if not id in unique_IDs:\n",
        "        unique_IDs.append(id)\n",
        "        unique_inx.append(i)\n",
        "        \n",
        "        \n",
        "images_test  = images_test[unique_inx]\n",
        "labels_test  = labels_test[unique_inx]\n",
        "pgcIDs_test  = pgcIDs_test[unique_inx]\n",
        "\n",
        "images_cvl  = images_test[:300]\n",
        "labels_cvl  = labels_test[:300]\n",
        "pgcIDs_cvl  = pgcIDs_test[:300]\n",
        "\n",
        "images_test  = images_test[300:]\n",
        "labels_test  = labels_test[300:]\n",
        "pgcIDs_test  = pgcIDs_test[300:]\n",
        "\n",
        "#############################################\n",
        "\n",
        "labels_cvl[labels_cvl<10]   = 0\n",
        "labels_test[labels_test<10]   = 0\n",
        "labels_train[labels_train<10]   = 0"
      ],
      "execution_count": 0,
      "outputs": []
    },
    {
      "cell_type": "code",
      "metadata": {
        "id": "Nu6GkSMQiA4j",
        "colab_type": "code",
        "outputId": "58924677-11e3-4d80-f63d-724b2f3fc9dd",
        "colab": {
          "base_uri": "https://localhost:8080/",
          "height": 50
        }
      },
      "source": [
        "print images_.shape\n",
        "ix, = np.where(labels_[1]>45)  # all labels\n",
        "\n",
        "images_c = images_[ix]\n",
        "labels_c = labels_[1][ix]\n",
        "pgcIDs_c = labels_[0][ix]\n",
        "\n",
        "print images_c.shape"
      ],
      "execution_count": 9,
      "outputs": [
        {
          "output_type": "stream",
          "text": [
            "(60468, 64, 64, 3)\n",
            "(44168, 64, 64, 3)\n"
          ],
          "name": "stdout"
        }
      ]
    },
    {
      "cell_type": "code",
      "metadata": {
        "id": "St4Pliqem48r",
        "colab_type": "code",
        "colab": {}
      },
      "source": [
        "n = len(labels_c)\n",
        "\n",
        "indices = np.arange(n)\n",
        "indices = esn_shuffle(indices, seed=3)\n",
        "\n",
        "\n",
        "images_cc = images_c[indices][:16248]\n",
        "labels_cc = labels_c[indices][:16248]\n",
        "pgcIDs_cc = pgcIDs_c[indices][:16248]\n",
        "\n",
        "n = len(labels_cc)\n",
        "\n",
        "#################\n",
        "\n",
        "indices = np.arange(600)\n",
        "images_test1  = images_cc[indices]\n",
        "labels_test1  = labels_cc[indices]\n",
        "pgcIDs_test1  = pgcIDs_cc[indices]\n",
        "\n",
        "################# \n",
        "\n",
        "indices = np.arange(600, n)\n",
        "images_train1 = images_cc[indices]\n",
        "labels_train1 = labels_cc[indices]\n",
        "pgcIDs_train1 = pgcIDs_cc[indices]\n",
        "\n",
        "\n",
        "ibx = np.logical_not(np.isin(pgcIDs_train1, pgcIDs_test1))\n",
        "images_train1 = images_train1[ibx]\n",
        "labels_train1 = labels_train1[ibx]\n",
        "pgcIDs_train1 = pgcIDs_train1[ibx]\n",
        "\n",
        "#################\n",
        "# Taking only unique galxies in the test set\n",
        "# This is the brute-force approach.\n",
        "# I need to make this better in the future\n",
        "\n",
        "unique_IDs = []\n",
        "unique_inx = []\n",
        "\n",
        "for i, id in enumerate(pgcIDs_test1):\n",
        "    if not id in unique_IDs:\n",
        "        unique_IDs.append(id)\n",
        "        unique_inx.append(i)\n",
        "        \n",
        "        \n",
        "images_test1  = images_test1[unique_inx]\n",
        "labels_test1  = labels_test1[unique_inx]\n",
        "pgcIDs_test1  = pgcIDs_test1[unique_inx]\n",
        "\n",
        "images_cvl1  = images_test1[:300]\n",
        "labels_cvl1  = labels_test1[:300]\n",
        "pgcIDs_cvl1  = pgcIDs_test1[:300]\n",
        "\n",
        "images_test1  = images_test1[300:]\n",
        "labels_test1  = labels_test1[300:]\n",
        "pgcIDs_test1  = pgcIDs_test1[300:]\n",
        "\n",
        "#############################################\n",
        "\n",
        "labels_cvl1[labels_cvl1>10]   = 1\n",
        "labels_test1[labels_test1>10]   = 1\n",
        "labels_train1[labels_train1>10]   = 1"
      ],
      "execution_count": 0,
      "outputs": []
    },
    {
      "cell_type": "code",
      "metadata": {
        "id": "srza1hWQz2v_",
        "colab_type": "code",
        "outputId": "bf42bba5-4596-45fc-8457-a45af8e54916",
        "colab": {
          "base_uri": "https://localhost:8080/",
          "height": 286
        }
      },
      "source": [
        "i = 800\n",
        "\n",
        "plt.imshow(images_train1[i])\n",
        "print \"Accepted?\", labels_train1[i]"
      ],
      "execution_count": 41,
      "outputs": [
        {
          "output_type": "stream",
          "text": [
            "Accepted? 1\n"
          ],
          "name": "stdout"
        },
        {
          "output_type": "display_data",
          "data": {
            "image/png": "[encoded data removed]",
            "text/plain": [
              "<Figure size 432x288 with 1 Axes>"
            ]
          },
          "metadata": {
            "tags": []
          }
        }
      ]
    },
    {
      "cell_type": "code",
      "metadata": {
        "id": "scf444Zhm5Hm",
        "colab_type": "code",
        "colab": {}
      },
      "source": [
        "images_cvl = np.concatenate((images_cvl, images_cvl1))\n",
        "labels_cvl = np.concatenate((labels_cvl, labels_cvl1))\n",
        "pgcIDs_cvl = np.concatenate((pgcIDs_cvl, pgcIDs_cvl1))\n",
        "\n",
        "images_test = np.concatenate((images_test, images_test1))\n",
        "labels_test = np.concatenate((labels_test, labels_test1))\n",
        "pgcIDs_test = np.concatenate((pgcIDs_test, pgcIDs_test1))\n",
        "\n",
        "images_train = np.concatenate((images_train, images_train1))\n",
        "labels_train = np.concatenate((labels_train, labels_train1))\n",
        "pgcIDs_train = np.concatenate((pgcIDs_train, pgcIDs_train1))\n"
      ],
      "execution_count": 0,
      "outputs": []
    },
    {
      "cell_type": "code",
      "metadata": {
        "id": "jrEZldHYm5FB",
        "colab_type": "code",
        "outputId": "bcce354a-262b-40ac-e105-6addaa4b2b0a",
        "colab": {
          "base_uri": "https://localhost:8080/",
          "height": 67
        }
      },
      "source": [
        "print images_cvl.shape, labels_cvl.shape\n",
        "print images_test.shape, labels_test.shape\n",
        "print images_train.shape, labels_train.shape\n"
      ],
      "execution_count": 13,
      "outputs": [
        {
          "output_type": "stream",
          "text": [
            "(600, 64, 64, 3) (600,)\n",
            "(549, 64, 64, 3) (549,)\n",
            "(29011, 64, 64, 3) (29011,)\n"
          ],
          "name": "stdout"
        }
      ]
    },
    {
      "cell_type": "code",
      "metadata": {
        "id": "4h08QLBMpwLJ",
        "colab_type": "code",
        "outputId": "6257a1c9-657c-4af7-e522-fadd123ff48d",
        "colab": {
          "base_uri": "https://localhost:8080/",
          "height": 50
        }
      },
      "source": [
        "print len(labels_train[labels_train==0])\n",
        "print len(labels_train[labels_train==1])\n"
      ],
      "execution_count": 14,
      "outputs": [
        {
          "output_type": "stream",
          "text": [
            "13980\n",
            "15031\n"
          ],
          "name": "stdout"
        }
      ]
    },
    {
      "cell_type": "code",
      "metadata": {
        "id": "IJt6SBezwg8i",
        "colab_type": "code",
        "outputId": "435dd137-79be-4c2c-de8e-94c3da1f8bab",
        "colab": {
          "base_uri": "https://localhost:8080/",
          "height": 286
        }
      },
      "source": [
        "i = 6500\n",
        "\n",
        "plt.imshow(images_train[i])\n",
        "print labels_train[i]"
      ],
      "execution_count": 15,
      "outputs": [
        {
          "output_type": "stream",
          "text": [
            "0\n"
          ],
          "name": "stdout"
        },
        {
          "output_type": "display_data",
          "data": {
            "image/png": "[encoded data removed]",
            "text/plain": [
              "<Figure size 432x288 with 1 Axes>"
            ]
          },
          "metadata": {
            "tags": []
          }
        }
      ]
    },
    {
      "cell_type": "code",
      "metadata": {
        "id": "4E0Lv0eJlGvb",
        "colab_type": "code",
        "outputId": "774cf6fe-bf40-4b15-a6df-2bdc1c44efa9",
        "colab": {
          "base_uri": "https://localhost:8080/",
          "height": 62
        }
      },
      "source": [
        "np.random.seed(400)\n",
        "\n",
        "import tensorflow as tf\n",
        "from tensorflow.keras.models import Sequential\n",
        "from tensorflow.keras.layers import Dense, Conv2D, Flatten\n",
        "from tensorflow.keras.utils import to_categorical\n",
        "import matplotlib.pyplot as plt\n",
        "\n",
        "import numpy as np\n",
        "def vgg6(input_shape=(64, 64, 3), n_classes=2):\n",
        "    \"\"\"\n",
        "        VGG6\n",
        "    :param input_shape:\n",
        "    :param n_classes:\n",
        "    :return:\n",
        "    \"\"\"\n",
        "\n",
        "    model = tf.keras.models.Sequential(name='VGG6')\n",
        "    # input: 64x64 images with 3 channel -> (64, 64, 3) tensors.\n",
        "    # this applies 16 convolution filters of size 3x3 each.\n",
        "    model.add(tf.keras.layers.Conv2D(16, (3, 3), activation='relu', input_shape=input_shape, name='conv1'))\n",
        "    model.add(tf.keras.layers.Conv2D(16, (3, 3), activation='relu', name='conv2'))\n",
        "    model.add(tf.keras.layers.BatchNormalization(axis = 3, name = 'bn_1'))\n",
        "    model.add(tf.keras.layers.MaxPooling2D(pool_size=(2, 2)))\n",
        "    model.add(tf.keras.layers.Dropout(0.20))\n",
        "\n",
        "    model.add(tf.keras.layers.Conv2D(32, (3, 3), activation='relu', name='conv3'))\n",
        "    model.add(tf.keras.layers.Conv2D(32, (3, 3), activation='relu', name='conv4'))\n",
        "    model.add(tf.keras.layers.BatchNormalization(axis = 3, name = 'bn_2'))\n",
        "    model.add(tf.keras.layers.MaxPooling2D(pool_size=(2, 2)))\n",
        "    model.add(tf.keras.layers.Dropout(0.20))\n",
        "\n",
        "    model.add(tf.keras.layers.Conv2D(64, (3, 3), activation='relu', name='conv5'))\n",
        "    model.add(tf.keras.layers.Conv2D(64, (3, 3), activation='relu', name='conv6'))\n",
        "    model.add(tf.keras.layers.BatchNormalization(axis = 3, name = 'bn_3'))\n",
        "    model.add(tf.keras.layers.MaxPooling2D(pool_size=(2, 2)))\n",
        "    model.add(tf.keras.layers.Dropout(0.20))\n",
        "\n",
        "\n",
        "    model.add(tf.keras.layers.Flatten())\n",
        "\n",
        "    model.add(tf.keras.layers.Dense(256, activation='relu', name='fc_1'))\n",
        "    model.add(tf.keras.layers.Dropout(0.20))\n",
        "    \n",
        "    model.add(tf.keras.layers.Dense(128, activation='relu', name='fc_2'))\n",
        "    model.add(tf.keras.layers.Dropout(0.20))\n",
        "\n",
        "    # model.add(tf.keras.layers.Dense(64, activation='relu', name='fc_3'))\n",
        "    # model.add(tf.keras.layers.Dropout(0.20))\n",
        "\n",
        "    # model.add(tf.keras.layers.Dense(32, activation='relu', name='fc_4'))\n",
        "    # model.add(tf.keras.layers.Dropout(0.20))\n",
        "\n",
        "\n",
        "    # output layer\n",
        "    activation = 'sigmoid' if n_classes == 1 else 'softmax'\n",
        "    model.add(tf.keras.layers.Dense(n_classes, activation=activation, name='fc_out'))\n",
        "\n",
        "    return model"
      ],
      "execution_count": 16,
      "outputs": [
        {
          "output_type": "display_data",
          "data": {
            "text/plain": [
              "<IPython.core.display.HTML object>"
            ],
            "text/html": [
              "<p style=\"color: red;\">\n",
              "The default version of TensorFlow in Colab will switch to TensorFlow 2.x on the 27th of March, 2020.<br>\n",
              "We recommend you <a href=\"https://www.tensorflow.org/guide/migrate\" target=\"_blank\">upgrade</a> now\n",
              "or ensure your notebook will continue to use TensorFlow 1.x via the <code>%tensorflow_version 1.x</code> magic:\n",
              "<a href=\"https://colab.research.google.com/notebooks/tensorflow_version.ipynb\" target=\"_blank\">more info</a>.</p>\n"
            ]
          },
          "metadata": {
            "tags": []
          }
        }
      ]
    },
    {
      "cell_type": "code",
      "metadata": {
        "id": "hN6awl3UkCwU",
        "colab_type": "code",
        "outputId": "4e8a2d16-c011-4f03-f5a5-1bbf0ae591b7",
        "colab": {
          "base_uri": "https://localhost:8080/",
          "height": 1000
        }
      },
      "source": [
        "vgg_model = vgg6()\n",
        "vgg_model.compile(loss='sparse_categorical_crossentropy', optimizer='adam', metrics=['accuracy'])\n",
        "n_epochs=10\n",
        "vgg_model.summary()\n",
        "vgg_model_history = vgg_model.fit(images_train, labels_train, \n",
        "                                  epochs=n_epochs, batch_size=512, verbose=2, \n",
        "                                  validation_data=(images_test, labels_test),\n",
        "                                  shuffle=True)\n"
      ],
      "execution_count": 17,
      "outputs": [
        {
          "output_type": "stream",
          "text": [
            "WARNING: Logging before flag parsing goes to stderr.\n",
            "W0326 00:36:09.784506 140110684489600 deprecation.py:506] From /tensorflow-1.15.0/python2.7/tensorflow_core/python/ops/resource_variable_ops.py:1630: calling __init__ (from tensorflow.python.ops.resource_variable_ops) with constraint is deprecated and will be removed in a future version.\n",
            "Instructions for updating:\n",
            "If using Keras pass *_constraint arguments to layers.\n"
          ],
          "name": "stderr"
        },
        {
          "output_type": "stream",
          "text": [
            "Model: \"VGG6\"\n",
            "_________________________________________________________________\n",
            "Layer (type)                 Output Shape              Param #   \n",
            "=================================================================\n",
            "conv1 (Conv2D)               (None, 62, 62, 16)        448       \n",
            "_________________________________________________________________\n",
            "conv2 (Conv2D)               (None, 60, 60, 16)        2320      \n",
            "_________________________________________________________________\n",
            "bn_1 (BatchNormalization)    (None, 60, 60, 16)        64        \n",
            "_________________________________________________________________\n",
            "max_pooling2d (MaxPooling2D) (None, 30, 30, 16)        0         \n",
            "_________________________________________________________________\n",
            "dropout (Dropout)            (None, 30, 30, 16)        0         \n",
            "_________________________________________________________________\n",
            "conv3 (Conv2D)               (None, 28, 28, 32)        4640      \n",
            "_________________________________________________________________\n",
            "conv4 (Conv2D)               (None, 26, 26, 32)        9248      \n",
            "_________________________________________________________________\n",
            "bn_2 (BatchNormalization)    (None, 26, 26, 32)        128       \n",
            "_________________________________________________________________\n",
            "max_pooling2d_1 (MaxPooling2 (None, 13, 13, 32)        0         \n",
            "_________________________________________________________________\n",
            "dropout_1 (Dropout)          (None, 13, 13, 32)        0         \n",
            "_________________________________________________________________\n",
            "conv5 (Conv2D)               (None, 11, 11, 64)        18496     \n",
            "_________________________________________________________________\n",
            "conv6 (Conv2D)               (None, 9, 9, 64)          36928     \n",
            "_________________________________________________________________\n",
            "bn_3 (BatchNormalization)    (None, 9, 9, 64)          256       \n",
            "_________________________________________________________________\n",
            "max_pooling2d_2 (MaxPooling2 (None, 4, 4, 64)          0         \n",
            "_________________________________________________________________\n",
            "dropout_2 (Dropout)          (None, 4, 4, 64)          0         \n",
            "_________________________________________________________________\n",
            "flatten (Flatten)            (None, 1024)              0         \n",
            "_________________________________________________________________\n",
            "fc_1 (Dense)                 (None, 256)               262400    \n",
            "_________________________________________________________________\n",
            "dropout_3 (Dropout)          (None, 256)               0         \n",
            "_________________________________________________________________\n",
            "fc_2 (Dense)                 (None, 128)               32896     \n",
            "_________________________________________________________________\n",
            "dropout_4 (Dropout)          (None, 128)               0         \n",
            "_________________________________________________________________\n",
            "fc_out (Dense)               (None, 2)                 258       \n",
            "=================================================================\n",
            "Total params: 368,082\n",
            "Trainable params: 367,858\n",
            "Non-trainable params: 224\n",
            "_________________________________________________________________\n",
            "Train on 29011 samples, validate on 549 samples\n",
            "Epoch 1/10\n",
            "29011/29011 - 12s - loss: 0.5122 - acc: 0.7866 - val_loss: 0.5111 - val_acc: 0.7104\n",
            "Epoch 2/10\n",
            "29011/29011 - 4s - loss: 0.2919 - acc: 0.8846 - val_loss: 0.3262 - val_acc: 0.8634\n",
            "Epoch 3/10\n",
            "29011/29011 - 4s - loss: 0.2668 - acc: 0.8946 - val_loss: 0.2534 - val_acc: 0.9053\n",
            "Epoch 4/10\n",
            "29011/29011 - 4s - loss: 0.2567 - acc: 0.8978 - val_loss: 0.2229 - val_acc: 0.9180\n",
            "Epoch 5/10\n",
            "29011/29011 - 4s - loss: 0.2466 - acc: 0.9040 - val_loss: 0.2273 - val_acc: 0.9162\n",
            "Epoch 6/10\n",
            "29011/29011 - 4s - loss: 0.2409 - acc: 0.9041 - val_loss: 0.2156 - val_acc: 0.9089\n",
            "Epoch 7/10\n",
            "29011/29011 - 4s - loss: 0.2347 - acc: 0.9075 - val_loss: 0.2123 - val_acc: 0.9107\n",
            "Epoch 8/10\n",
            "29011/29011 - 4s - loss: 0.2290 - acc: 0.9065 - val_loss: 0.2391 - val_acc: 0.9016\n",
            "Epoch 9/10\n",
            "29011/29011 - 4s - loss: 0.2278 - acc: 0.9069 - val_loss: 0.2267 - val_acc: 0.9053\n",
            "Epoch 10/10\n",
            "29011/29011 - 4s - loss: 0.2253 - acc: 0.9111 - val_loss: 0.2212 - val_acc: 0.9071\n"
          ],
          "name": "stdout"
        }
      ]
    },
    {
      "cell_type": "code",
      "metadata": {
        "id": "ktTn8mK_Q5MB",
        "colab_type": "code",
        "colab": {
          "base_uri": "https://localhost:8080/",
          "height": 350
        },
        "outputId": "d427216e-c549-4843-b5a0-188f45b143fb"
      },
      "source": [
        "def plot_model_history(history):\n",
        "    '''Plot the training and validation history for a TensorFlow network'''\n",
        "\n",
        "    # Extract loss and accuracy\n",
        "    loss = history.history['loss']\n",
        "    val_loss = history.history['val_loss']\n",
        "    acc = history.history['acc']\n",
        "    val_acc = history.history['val_acc']\n",
        "    \n",
        "    fig, ax = plt.subplots(nrows=1,ncols=2, figsize=(10,5))\n",
        "    ax[0].plot(np.arange(n_epochs), loss, label='Training Loss')\n",
        "    ax[0].plot(np.arange(n_epochs), val_loss, label='Validation Loss')\n",
        "    ax[0].set_title('Loss Curves')\n",
        "    ax[0].legend()\n",
        "    ax[0].set_xlabel('Epoch')\n",
        "    ax[0].set_ylabel('Loss')\n",
        "\n",
        "    ax[1].plot(np.arange(n_epochs), acc, label='Training Accuracy')\n",
        "    ax[1].plot(np.arange(n_epochs), val_acc, label='Validation Accuracy')\n",
        "    ax[1].set_title('Accuracy Curves')\n",
        "    ax[1].legend()\n",
        "    ax[1].set_xlabel('Epoch')\n",
        "    ax[1].set_ylabel('Accuracy')\n",
        "    \n",
        "# plot the training history\n",
        "# print vgg_model.history.history['loss']\n",
        "\n",
        "plot_model_history(vgg_model.history)\n",
        "  "
      ],
      "execution_count": 18,
      "outputs": [
        {
          "output_type": "display_data",
          "data": {
            "image/png": "[encoded data removed]",
            "text/plain": [
              "<Figure size 720x360 with 2 Axes>"
            ]
          },
          "metadata": {
            "tags": []
          }
        }
      ]
    },
    {
      "cell_type": "code",
      "metadata": {
        "id": "eZmGZyaVkHHS",
        "colab_type": "code",
        "colab": {}
      },
      "source": [
        "flag_p = vgg_model.predict(images_train)\n",
        "flag_m = labels_train"
      ],
      "execution_count": 0,
      "outputs": []
    },
    {
      "cell_type": "code",
      "metadata": {
        "id": "JMR5KT7j1SyB",
        "colab_type": "code",
        "outputId": "95d9e2e5-fd9f-45a4-e97d-3a860cadadae",
        "colab": {
          "base_uri": "https://localhost:8080/",
          "height": 353
        }
      },
      "source": [
        "i = 0 \n",
        "for ix, pgc in enumerate(pgcIDs_train):\n",
        "  if pgc==218:\n",
        "    i = ix\n",
        "    break\n",
        "\n",
        "\n",
        "# i=231\n",
        "print i\n",
        "\n",
        "plt.imshow(images_train[i])\n",
        "print \"PGC ID: \", pgcIDs_train[i]\n",
        "print \"Accepeted by human user?: \", flag_m[i]\n",
        "print \"Accpeted by this code? : \", np.argmax(flag_p[i] )\n",
        "print \"Probability of rejection: \", '%d'%(flag_p[i][0]*100)+'%'\n"
      ],
      "execution_count": 40,
      "outputs": [
        {
          "output_type": "stream",
          "text": [
            "20728\n",
            "PGC ID:  218\n",
            "Accepeted by human user?:  1\n",
            "Accpeted by this code? :  1\n",
            "Probability of rejection:  12%\n"
          ],
          "name": "stdout"
        },
        {
          "output_type": "display_data",
          "data": {
            "image/png": "[encoded data removed]",
            "text/plain": [
              "<Figure size 432x288 with 1 Axes>"
            ]
          },
          "metadata": {
            "tags": []
          }
        }
      ]
    },
    {
      "cell_type": "code",
      "metadata": {
        "id": "m6n4yIb21hAr",
        "colab_type": "code",
        "outputId": "90889f62-2d0a-41e2-b84d-3815e6b8a4d4",
        "colab": {
          "base_uri": "https://localhost:8080/",
          "height": 34
        }
      },
      "source": [
        "vgg_model.save(\"/content/drive/My Drive/CNN_inc_VGG6_binary.h5\")\n",
        "print(\"Saved model to disk\")"
      ],
      "execution_count": 21,
      "outputs": [
        {
          "output_type": "stream",
          "text": [
            "Saved model to disk\n"
          ],
          "name": "stdout"
        }
      ]
    },
    {
      "cell_type": "code",
      "metadata": {
        "id": "Rv3XL-GckoQ2",
        "colab_type": "code",
        "colab": {}
      },
      "source": [
        ""
      ],
      "execution_count": 0,
      "outputs": []
    }
  ]
}