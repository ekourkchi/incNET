{
  "nbformat": 4,
  "nbformat_minor": 0,
  "metadata": {
    "colab": {
      "name": "CNN_binary_classes.ipynb",
      "provenance": [],
      "machine_shape": "hm",
      "mount_file_id": "1i5LnnBEr_GyRzO9WM3lxA9QfligqCiQf",
      "authorship_tag": "ABX9TyPQHUmW3b2wxmhgJYpDz1Xk",
      "include_colab_link": true
    },
    "kernelspec": {
      "name": "python2",
      "display_name": "Python 2"
    },
    "accelerator": "GPU"
  },
  "cells": [
    {
      "cell_type": "markdown",
      "metadata": {
        "id": "view-in-github",
        "colab_type": "text"
      },
      "source": [
        "<a href=\"https://colab.research.google.com/github/ekourkchi/incNET/blob/master/CNN_binary_classes.ipynb\" target=\"_parent\"><img src=\"https://colab.research.google.com/assets/colab-badge.svg\" alt=\"Open In Colab\"/></a>"
      ]
    },
    {
      "cell_type": "code",
      "metadata": {
        "id": "RBFam7IxaOWV",
        "colab_type": "code",
        "colab": {}
      },
      "source": [
        "import sys\n",
        "import os\n",
        "import subprocess\n",
        "from math import *\n",
        "import numpy as np\n",
        "from datetime import *\n",
        "from pylab import *\n",
        "import matplotlib as mpl\n",
        "from matplotlib.widgets import Slider, Button, RadioButtons\n",
        "import matplotlib.pyplot as plt\n",
        "from astropy.table import Table, Column \n",
        "from mpl_toolkits.axes_grid1 import make_axes_locatable\n",
        "import matplotlib.patches as patches\n",
        "import scipy.misc as scimisc\n",
        "import random\n",
        "\n",
        "# from google.colab import drive\n",
        "# drive.mount('/content/drive')"
      ],
      "execution_count": 0,
      "outputs": []
    },
    {
      "cell_type": "code",
      "metadata": {
        "id": "s0jKF4GqaUHA",
        "colab_type": "code",
        "colab": {}
      },
      "source": [
        "data = np.load('/content/drive/My Drive/data_64x64.npz')\n",
        "images_ = data['images']\n",
        "labels_ = data['labels'] \n",
        "data.close() "
      ],
      "execution_count": 0,
      "outputs": []
    },
    {
      "cell_type": "code",
      "metadata": {
        "id": "XujeD8QDaVo8",
        "colab_type": "code",
        "colab": {
          "base_uri": "https://localhost:8080/",
          "height": 302
        },
        "outputId": "362a3b6d-7628-49f6-8d54-481940329268"
      },
      "source": [
        "i = 500\n",
        "print labels_[1][i]\n",
        "plt.imshow(images_[i])"
      ],
      "execution_count": 288,
      "outputs": [
        {
          "output_type": "stream",
          "text": [
            "1\n"
          ],
          "name": "stdout"
        },
        {
          "output_type": "execute_result",
          "data": {
            "text/plain": [
              "<matplotlib.image.AxesImage at 0x7fda83fac7d0>"
            ]
          },
          "metadata": {
            "tags": []
          },
          "execution_count": 288
        },
        {
          "output_type": "display_data",
          "data": {
            "image/png": "[encoded data removed]",
            "text/plain": [
              "<Figure size 432x288 with 1 Axes>"
            ]
          },
          "metadata": {
            "tags": []
          }
        }
      ]
    },
    {
      "cell_type": "code",
      "metadata": {
        "id": "GrMkGIIEfyWE",
        "colab_type": "code",
        "colab": {
          "base_uri": "https://localhost:8080/",
          "height": 336
        },
        "outputId": "abbb1812-451a-4583-d7e2-0d9542cc4ab5"
      },
      "source": [
        "plt.hist(labels_[1][labels_[1]>45])"
      ],
      "execution_count": 289,
      "outputs": [
        {
          "output_type": "execute_result",
          "data": {
            "text/plain": [
              "(array([1144., 3220., 3148., 2744., 2968., 5188., 4804., 6784., 4940.,\n",
              "        9228.]),\n",
              " array([46. , 50.4, 54.8, 59.2, 63.6, 68. , 72.4, 76.8, 81.2, 85.6, 90. ]),\n",
              " <a list of 10 Patch objects>)"
            ]
          },
          "metadata": {
            "tags": []
          },
          "execution_count": 289
        },
        {
          "output_type": "display_data",
          "data": {
            "image/png": "[encoded data removed]",
            "text/plain": [
              "<Figure size 432x288 with 1 Axes>"
            ]
          },
          "metadata": {
            "tags": []
          }
        }
      ]
    },
    {
      "cell_type": "code",
      "metadata": {
        "id": "11HuUMl6f471",
        "colab_type": "code",
        "colab": {
          "base_uri": "https://localhost:8080/",
          "height": 336
        },
        "outputId": "35796419-b39a-47df-f5a7-7c7e0295487a"
      },
      "source": [
        "plt.hist(labels_[1][labels_[1]<10])"
      ],
      "execution_count": 290,
      "outputs": [
        {
          "output_type": "execute_result",
          "data": {
            "text/plain": [
              "(array([8832.,    0.,    0.,    0.,    0.,    0.,    0.,    0.,    0.,\n",
              "        7416.]),\n",
              " array([0. , 0.1, 0.2, 0.3, 0.4, 0.5, 0.6, 0.7, 0.8, 0.9, 1. ]),\n",
              " <a list of 10 Patch objects>)"
            ]
          },
          "metadata": {
            "tags": []
          },
          "execution_count": 290
        },
        {
          "output_type": "display_data",
          "data": {
            "image/png": "[encoded data removed]",
            "text/plain": [
              "<Figure size 432x288 with 1 Axes>"
            ]
          },
          "metadata": {
            "tags": []
          }
        }
      ]
    },
    {
      "cell_type": "code",
      "metadata": {
        "id": "8b55PBnYfQTo",
        "colab_type": "code",
        "colab": {
          "base_uri": "https://localhost:8080/",
          "height": 50
        },
        "outputId": "99a88070-a364-478c-e056-e8265a21a7d7"
      },
      "source": [
        "print images_.shape\n",
        "ix, = np.where(labels_[1]<10)  # face-on or rejected\n",
        "\n",
        "images_c = images_[ix]\n",
        "labels_c = labels_[1][ix]\n",
        "pgcIDs_c = labels_[0][ix]\n",
        "\n",
        "print images_c.shape"
      ],
      "execution_count": 291,
      "outputs": [
        {
          "output_type": "stream",
          "text": [
            "(60468, 64, 64, 3)\n",
            "(16248, 64, 64, 3)\n"
          ],
          "name": "stdout"
        }
      ]
    },
    {
      "cell_type": "code",
      "metadata": {
        "id": "b-eoqKykhTs7",
        "colab_type": "code",
        "colab": {}
      },
      "source": [
        "def esn_shuffle(array, seed=0):\n",
        "        random.seed(seed)\n",
        "        random.shuffle(array)\n",
        "        return array"
      ],
      "execution_count": 0,
      "outputs": []
    },
    {
      "cell_type": "code",
      "metadata": {
        "id": "T9Ff1tm9gjWh",
        "colab_type": "code",
        "colab": {}
      },
      "source": [
        "n = len(labels_c)\n",
        "\n",
        "indices = np.arange(n)\n",
        "indices = esn_shuffle(indices, seed=2)\n",
        "\n",
        "\n",
        "images_cc = images_c[indices]\n",
        "labels_cc = labels_c[indices]\n",
        "pgcIDs_cc = pgcIDs_c[indices]\n",
        "\n",
        "#################\n",
        "\n",
        "indices = np.arange(600)\n",
        "images_test  = images_cc[indices]\n",
        "labels_test  = labels_cc[indices]\n",
        "pgcIDs_test  = pgcIDs_cc[indices]\n",
        "\n",
        "################# \n",
        "\n",
        "indices = np.arange(600, n)\n",
        "images_train = images_cc[indices]\n",
        "labels_train = labels_cc[indices]\n",
        "pgcIDs_train = pgcIDs_cc[indices]\n",
        "\n",
        "\n",
        "ibx = np.logical_not(np.isin(pgcIDs_train, pgcIDs_test))\n",
        "images_train = images_train[ibx]\n",
        "labels_train = labels_train[ibx]\n",
        "pgcIDs_train = pgcIDs_train[ibx]\n",
        "\n",
        "#################\n",
        "# Taking only unique galxies in the test set\n",
        "# This is the brute-force approach.\n",
        "# I need to make this better in the future\n",
        "\n",
        "unique_IDs = []\n",
        "unique_inx = []\n",
        "\n",
        "for i, id in enumerate(pgcIDs_test):\n",
        "    if not id in unique_IDs:\n",
        "        unique_IDs.append(id)\n",
        "        unique_inx.append(i)\n",
        "        \n",
        "        \n",
        "images_test  = images_test[unique_inx]\n",
        "labels_test  = labels_test[unique_inx]\n",
        "pgcIDs_test  = pgcIDs_test[unique_inx]\n",
        "\n",
        "images_cvl  = images_test[:300]\n",
        "labels_cvl  = labels_test[:300]\n",
        "pgcIDs_cvl  = pgcIDs_test[:300]\n",
        "\n",
        "images_test  = images_test[300:]\n",
        "labels_test  = labels_test[300:]\n",
        "pgcIDs_test  = pgcIDs_test[300:]\n",
        "\n",
        "#############################################\n",
        "\n",
        "labels_cvl[labels_cvl<10]   = 0\n",
        "\n",
        "labels_test[labels_test<10]   = 0\n",
        "\n",
        "labels_train[labels_train<10]   = 0\n"
      ],
      "execution_count": 0,
      "outputs": []
    },
    {
      "cell_type": "code",
      "metadata": {
        "id": "Nu6GkSMQiA4j",
        "colab_type": "code",
        "colab": {
          "base_uri": "https://localhost:8080/",
          "height": 50
        },
        "outputId": "11a376da-ba5b-49d9-9367-7e3eff487b7a"
      },
      "source": [
        "print images_.shape\n",
        "ix, = np.where(labels_[1]>45)  # all labels\n",
        "\n",
        "images_c = images_[ix]\n",
        "labels_c = labels_[1][ix]\n",
        "pgcIDs_c = labels_[0][ix]\n",
        "\n",
        "print images_c.shape"
      ],
      "execution_count": 294,
      "outputs": [
        {
          "output_type": "stream",
          "text": [
            "(60468, 64, 64, 3)\n",
            "(44168, 64, 64, 3)\n"
          ],
          "name": "stdout"
        }
      ]
    },
    {
      "cell_type": "code",
      "metadata": {
        "id": "St4Pliqem48r",
        "colab_type": "code",
        "colab": {}
      },
      "source": [
        "n = len(labels_c)\n",
        "\n",
        "indices = np.arange(n)\n",
        "indices = esn_shuffle(indices, seed=3)\n",
        "\n",
        "\n",
        "images_cc = images_c[indices][:16248]\n",
        "labels_cc = labels_c[indices][:16248]\n",
        "pgcIDs_cc = pgcIDs_c[indices][:16248]\n",
        "\n",
        "n = len(labels_cc)\n",
        "\n",
        "#################\n",
        "\n",
        "indices = np.arange(600)\n",
        "images_test1  = images_cc[indices]\n",
        "labels_test1  = labels_cc[indices]\n",
        "pgcIDs_test1  = pgcIDs_cc[indices]\n",
        "\n",
        "################# \n",
        "\n",
        "indices = np.arange(600, n)\n",
        "images_train1 = images_cc[indices]\n",
        "labels_train1 = labels_cc[indices]\n",
        "pgcIDs_train1 = pgcIDs_cc[indices]\n",
        "\n",
        "\n",
        "ibx = np.logical_not(np.isin(pgcIDs_train1, pgcIDs_test1))\n",
        "images_train1 = images_train1[ibx]\n",
        "labels_train1 = labels_train1[ibx]\n",
        "pgcIDs_train1 = pgcIDs_train1[ibx]\n",
        "\n",
        "#################\n",
        "# Taking only unique galxies in the test set\n",
        "# This is the brute-force approach.\n",
        "# I need to make this better in the future\n",
        "\n",
        "unique_IDs = []\n",
        "unique_inx = []\n",
        "\n",
        "for i, id in enumerate(pgcIDs_test1):\n",
        "    if not id in unique_IDs:\n",
        "        unique_IDs.append(id)\n",
        "        unique_inx.append(i)\n",
        "        \n",
        "        \n",
        "images_test1  = images_test1[unique_inx]\n",
        "labels_test1  = labels_test1[unique_inx]\n",
        "pgcIDs_test1  = pgcIDs_test1[unique_inx]\n",
        "\n",
        "images_cvl1  = images_test1[:300]\n",
        "labels_cvl1  = labels_test1[:300]\n",
        "pgcIDs_cvl1  = pgcIDs_test1[:300]\n",
        "\n",
        "images_test1  = images_test1[300:]\n",
        "labels_test1  = labels_test1[300:]\n",
        "pgcIDs_test1  = pgcIDs_test1[300:]\n",
        "\n",
        "#############################################\n",
        "\n",
        "labels_cvl1[labels_cvl1>10]   = 1\n",
        "\n",
        "labels_test1[labels_test1>10]   = 1\n",
        "\n",
        "labels_train1[labels_train1>10]   = 1"
      ],
      "execution_count": 0,
      "outputs": []
    },
    {
      "cell_type": "code",
      "metadata": {
        "id": "srza1hWQz2v_",
        "colab_type": "code",
        "colab": {
          "base_uri": "https://localhost:8080/",
          "height": 286
        },
        "outputId": "33f5527b-0bf5-46d0-c91c-5f69509379bf"
      },
      "source": [
        "i = 800\n",
        "\n",
        "plt.imshow(images_train1[i])\n",
        "print labels_train1[i]"
      ],
      "execution_count": 296,
      "outputs": [
        {
          "output_type": "stream",
          "text": [
            "1\n"
          ],
          "name": "stdout"
        },
        {
          "output_type": "display_data",
          "data": {
            "image/png": "[encoded data removed]",
            "text/plain": [
              "<Figure size 432x288 with 1 Axes>"
            ]
          },
          "metadata": {
            "tags": []
          }
        }
      ]
    },
    {
      "cell_type": "code",
      "metadata": {
        "id": "scf444Zhm5Hm",
        "colab_type": "code",
        "colab": {}
      },
      "source": [
        "images_cvl = np.concatenate((images_cvl, images_cvl1))\n",
        "labels_cvl = np.concatenate((labels_cvl, labels_cvl1))\n",
        "pgcIDs_cvl = np.concatenate((pgcIDs_cvl, pgcIDs_cvl1))\n",
        "\n",
        "images_test = np.concatenate((images_test, images_test1))\n",
        "labels_test = np.concatenate((labels_test, labels_test1))\n",
        "pgcIDs_test = np.concatenate((pgcIDs_test, pgcIDs_test1))\n",
        "\n",
        "images_train = np.concatenate((images_train, images_train1))\n",
        "labels_train = np.concatenate((labels_train, labels_train1))\n",
        "pgcIDs_train = np.concatenate((pgcIDs_train, pgcIDs_train1))\n"
      ],
      "execution_count": 0,
      "outputs": []
    },
    {
      "cell_type": "code",
      "metadata": {
        "id": "jrEZldHYm5FB",
        "colab_type": "code",
        "colab": {
          "base_uri": "https://localhost:8080/",
          "height": 67
        },
        "outputId": "703cf80d-1265-41d2-8b49-391637db0d42"
      },
      "source": [
        "print images_cvl.shape, labels_cvl.shape\n",
        "print images_test.shape, labels_test.shape\n",
        "print images_train.shape, labels_train.shape\n"
      ],
      "execution_count": 298,
      "outputs": [
        {
          "output_type": "stream",
          "text": [
            "(600, 64, 64, 3) (600,)\n",
            "(549, 64, 64, 3) (549,)\n",
            "(29011, 64, 64, 3) (29011,)\n"
          ],
          "name": "stdout"
        }
      ]
    },
    {
      "cell_type": "code",
      "metadata": {
        "id": "4h08QLBMpwLJ",
        "colab_type": "code",
        "colab": {
          "base_uri": "https://localhost:8080/",
          "height": 50
        },
        "outputId": "97674a9f-4677-48cb-c480-7984f3713cc3"
      },
      "source": [
        "print len(labels_train[labels_train==0])\n",
        "print len(labels_train[labels_train==1])\n"
      ],
      "execution_count": 299,
      "outputs": [
        {
          "output_type": "stream",
          "text": [
            "13980\n",
            "15031\n"
          ],
          "name": "stdout"
        }
      ]
    },
    {
      "cell_type": "code",
      "metadata": {
        "id": "IJt6SBezwg8i",
        "colab_type": "code",
        "colab": {
          "base_uri": "https://localhost:8080/",
          "height": 286
        },
        "outputId": "cda94a14-1574-443f-e3bf-d10d21e22e49"
      },
      "source": [
        "i = 6500\n",
        "\n",
        "plt.imshow(images_train[i])\n",
        "print labels_train[i]"
      ],
      "execution_count": 300,
      "outputs": [
        {
          "output_type": "stream",
          "text": [
            "0\n"
          ],
          "name": "stdout"
        },
        {
          "output_type": "display_data",
          "data": {
            "image/png": "[encoded data removed]",
            "text/plain": [
              "<Figure size 432x288 with 1 Axes>"
            ]
          },
          "metadata": {
            "tags": []
          }
        }
      ]
    },
    {
      "cell_type": "code",
      "metadata": {
        "id": "4E0Lv0eJlGvb",
        "colab_type": "code",
        "colab": {}
      },
      "source": [
        "np.random.seed(400)\n",
        "\n",
        "import tensorflow as tf\n",
        "from tensorflow.keras.models import Sequential\n",
        "from tensorflow.keras.layers import Dense, Conv2D, Flatten\n",
        "from tensorflow.keras.utils import to_categorical\n",
        "import matplotlib.pyplot as plt\n",
        "\n",
        "import numpy as np\n",
        "def vgg6(input_shape=(64, 64, 3), n_classes=2):\n",
        "    \"\"\"\n",
        "        VGG6\n",
        "    :param input_shape:\n",
        "    :param n_classes:\n",
        "    :return:\n",
        "    \"\"\"\n",
        "\n",
        "    model = tf.keras.models.Sequential(name='VGG6')\n",
        "    # input: 64x64 images with 3 channel -> (64, 64, 3) tensors.\n",
        "    # this applies 16 convolution filters of size 3x3 each.\n",
        "    model.add(tf.keras.layers.Conv2D(16, (3, 3), activation='relu', input_shape=input_shape, name='conv1'))\n",
        "    model.add(tf.keras.layers.Conv2D(16, (3, 3), activation='relu', name='conv2'))\n",
        "    model.add(tf.keras.layers.BatchNormalization(axis = 3, name = 'bn_1'))\n",
        "    model.add(tf.keras.layers.MaxPooling2D(pool_size=(2, 2)))\n",
        "    model.add(tf.keras.layers.Dropout(0.20))\n",
        "\n",
        "    model.add(tf.keras.layers.Conv2D(32, (3, 3), activation='relu', name='conv3'))\n",
        "    model.add(tf.keras.layers.Conv2D(32, (3, 3), activation='relu', name='conv4'))\n",
        "    model.add(tf.keras.layers.BatchNormalization(axis = 3, name = 'bn_2'))\n",
        "    model.add(tf.keras.layers.MaxPooling2D(pool_size=(2, 2)))\n",
        "    model.add(tf.keras.layers.Dropout(0.20))\n",
        "\n",
        "    model.add(tf.keras.layers.Conv2D(64, (3, 3), activation='relu', name='conv5'))\n",
        "    model.add(tf.keras.layers.Conv2D(64, (3, 3), activation='relu', name='conv6'))\n",
        "    model.add(tf.keras.layers.BatchNormalization(axis = 3, name = 'bn_3'))\n",
        "    model.add(tf.keras.layers.MaxPooling2D(pool_size=(2, 2)))\n",
        "    model.add(tf.keras.layers.Dropout(0.20))\n",
        "\n",
        "\n",
        "    model.add(tf.keras.layers.Flatten())\n",
        "\n",
        "    model.add(tf.keras.layers.Dense(256, activation='relu', name='fc_1'))\n",
        "    model.add(tf.keras.layers.Dropout(0.20))\n",
        "    \n",
        "    model.add(tf.keras.layers.Dense(128, activation='relu', name='fc_2'))\n",
        "    model.add(tf.keras.layers.Dropout(0.20))\n",
        "\n",
        "    # model.add(tf.keras.layers.Dense(64, activation='relu', name='fc_3'))\n",
        "    # model.add(tf.keras.layers.Dropout(0.20))\n",
        "\n",
        "    # model.add(tf.keras.layers.Dense(32, activation='relu', name='fc_4'))\n",
        "    # model.add(tf.keras.layers.Dropout(0.20))\n",
        "\n",
        "\n",
        "    # output layer\n",
        "    activation = 'sigmoid' if n_classes == 1 else 'softmax'\n",
        "    model.add(tf.keras.layers.Dense(n_classes, activation=activation, name='fc_out'))\n",
        "\n",
        "    return model"
      ],
      "execution_count": 0,
      "outputs": []
    },
    {
      "cell_type": "code",
      "metadata": {
        "id": "hN6awl3UkCwU",
        "colab_type": "code",
        "colab": {
          "base_uri": "https://localhost:8080/",
          "height": 1000
        },
        "outputId": "b94e0fb8-9d2e-4ed1-c851-66f26f9883f1"
      },
      "source": [
        "vgg_model = vgg6()\n",
        "vgg_model.compile(loss='sparse_categorical_crossentropy', optimizer='adam', metrics=['accuracy'])\n",
        "n_epochs=10\n",
        "vgg_model.summary()\n",
        "vgg_model_history = vgg_model.fit(images_train, labels_train, \n",
        "                                  epochs=n_epochs, batch_size=512, verbose=2, \n",
        "                                  validation_data=(images_test, labels_test),\n",
        "                                  shuffle=True)\n"
      ],
      "execution_count": 302,
      "outputs": [
        {
          "output_type": "stream",
          "text": [
            "Model: \"VGG6\"\n",
            "_________________________________________________________________\n",
            "Layer (type)                 Output Shape              Param #   \n",
            "=================================================================\n",
            "conv1 (Conv2D)               (None, 62, 62, 16)        448       \n",
            "_________________________________________________________________\n",
            "conv2 (Conv2D)               (None, 60, 60, 16)        2320      \n",
            "_________________________________________________________________\n",
            "bn_1 (BatchNormalization)    (None, 60, 60, 16)        64        \n",
            "_________________________________________________________________\n",
            "max_pooling2d_33 (MaxPooling (None, 30, 30, 16)        0         \n",
            "_________________________________________________________________\n",
            "dropout_65 (Dropout)         (None, 30, 30, 16)        0         \n",
            "_________________________________________________________________\n",
            "conv3 (Conv2D)               (None, 28, 28, 32)        4640      \n",
            "_________________________________________________________________\n",
            "conv4 (Conv2D)               (None, 26, 26, 32)        9248      \n",
            "_________________________________________________________________\n",
            "bn_2 (BatchNormalization)    (None, 26, 26, 32)        128       \n",
            "_________________________________________________________________\n",
            "max_pooling2d_34 (MaxPooling (None, 13, 13, 32)        0         \n",
            "_________________________________________________________________\n",
            "dropout_66 (Dropout)         (None, 13, 13, 32)        0         \n",
            "_________________________________________________________________\n",
            "conv5 (Conv2D)               (None, 11, 11, 64)        18496     \n",
            "_________________________________________________________________\n",
            "conv6 (Conv2D)               (None, 9, 9, 64)          36928     \n",
            "_________________________________________________________________\n",
            "bn_3 (BatchNormalization)    (None, 9, 9, 64)          256       \n",
            "_________________________________________________________________\n",
            "max_pooling2d_35 (MaxPooling (None, 4, 4, 64)          0         \n",
            "_________________________________________________________________\n",
            "dropout_67 (Dropout)         (None, 4, 4, 64)          0         \n",
            "_________________________________________________________________\n",
            "flatten_11 (Flatten)         (None, 1024)              0         \n",
            "_________________________________________________________________\n",
            "fc_1 (Dense)                 (None, 256)               262400    \n",
            "_________________________________________________________________\n",
            "dropout_68 (Dropout)         (None, 256)               0         \n",
            "_________________________________________________________________\n",
            "fc_2 (Dense)                 (None, 128)               32896     \n",
            "_________________________________________________________________\n",
            "dropout_69 (Dropout)         (None, 128)               0         \n",
            "_________________________________________________________________\n",
            "fc_out (Dense)               (None, 2)                 258       \n",
            "=================================================================\n",
            "Total params: 368,082\n",
            "Trainable params: 367,858\n",
            "Non-trainable params: 224\n",
            "_________________________________________________________________\n",
            "Train on 29011 samples, validate on 549 samples\n",
            "Epoch 1/10\n",
            "29011/29011 - 6s - loss: 0.4708 - acc: 0.8081 - val_loss: 0.4413 - val_acc: 0.8142\n",
            "Epoch 2/10\n",
            "29011/29011 - 4s - loss: 0.2812 - acc: 0.8879 - val_loss: 0.3415 - val_acc: 0.8798\n",
            "Epoch 3/10\n",
            "29011/29011 - 4s - loss: 0.2596 - acc: 0.8969 - val_loss: 0.2647 - val_acc: 0.8907\n",
            "Epoch 4/10\n",
            "29011/29011 - 4s - loss: 0.2480 - acc: 0.9027 - val_loss: 0.2586 - val_acc: 0.9089\n",
            "Epoch 5/10\n",
            "29011/29011 - 4s - loss: 0.2415 - acc: 0.9053 - val_loss: 0.2461 - val_acc: 0.8925\n",
            "Epoch 6/10\n",
            "29011/29011 - 4s - loss: 0.2351 - acc: 0.9056 - val_loss: 0.2221 - val_acc: 0.9016\n",
            "Epoch 7/10\n",
            "29011/29011 - 4s - loss: 0.2287 - acc: 0.9080 - val_loss: 0.2095 - val_acc: 0.9253\n",
            "Epoch 8/10\n",
            "29011/29011 - 4s - loss: 0.2271 - acc: 0.9091 - val_loss: 0.2169 - val_acc: 0.9016\n",
            "Epoch 9/10\n",
            "29011/29011 - 4s - loss: 0.2239 - acc: 0.9102 - val_loss: 0.2205 - val_acc: 0.9016\n",
            "Epoch 10/10\n",
            "29011/29011 - 4s - loss: 0.2210 - acc: 0.9113 - val_loss: 0.1993 - val_acc: 0.9199\n"
          ],
          "name": "stdout"
        }
      ]
    },
    {
      "cell_type": "code",
      "metadata": {
        "id": "eZmGZyaVkHHS",
        "colab_type": "code",
        "colab": {}
      },
      "source": [
        "flag_p = vgg_model.predict(images_train)\n",
        "flag_m = labels_train"
      ],
      "execution_count": 0,
      "outputs": []
    },
    {
      "cell_type": "code",
      "metadata": {
        "id": "JMR5KT7j1SyB",
        "colab_type": "code",
        "colab": {
          "base_uri": "https://localhost:8080/",
          "height": 319
        },
        "outputId": "31d5c4f8-66ee-4b5b-ccd1-753d3e1f4e49"
      },
      "source": [
        "i = 0 \n",
        "for ix, pgc in enumerate(pgcIDs_train):\n",
        "  if pgc==5057033:\n",
        "    i = ix\n",
        "    break\n",
        "\n",
        "\n",
        "# i=231\n",
        "print i\n",
        "\n",
        "plt.imshow(images_train[i])\n",
        "print flag_m[i], np.argmax(flag_p[i] ), flag_p[i]*100\n",
        "print pgcIDs_train[i]"
      ],
      "execution_count": 362,
      "outputs": [
        {
          "output_type": "stream",
          "text": [
            "2755\n",
            "0 1 [27.733934 72.26607 ]\n",
            "5057033\n"
          ],
          "name": "stdout"
        },
        {
          "output_type": "display_data",
          "data": {
            "image/png": "[encoded data removed]",
            "text/plain": [
              "<Figure size 432x288 with 1 Axes>"
            ]
          },
          "metadata": {
            "tags": []
          }
        }
      ]
    },
    {
      "cell_type": "code",
      "metadata": {
        "id": "m6n4yIb21hAr",
        "colab_type": "code",
        "colab": {}
      },
      "source": [
        ""
      ],
      "execution_count": 0,
      "outputs": []
    }
  ]
}